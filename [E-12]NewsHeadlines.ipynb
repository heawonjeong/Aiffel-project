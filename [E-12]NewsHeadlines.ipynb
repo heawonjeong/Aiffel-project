{
 "cells": [
  {
   "cell_type": "markdown",
   "id": "74d7e15a",
   "metadata": {},
   "source": [
    "# Project: 뉴스기사 요약해보기"
   ]
  },
  {
   "cell_type": "code",
   "execution_count": 6,
   "id": "561777a2",
   "metadata": {},
   "outputs": [
    {
     "name": "stderr",
     "output_type": "stream",
     "text": [
      "[nltk_data] Downloading package stopwords to /aiffel/nltk_data...\n",
      "[nltk_data]   Unzipping corpora/stopwords.zip.\n"
     ]
    },
    {
     "name": "stdout",
     "output_type": "stream",
     "text": [
      "3.6.5\n",
      "2.6.0\n",
      "1.2.0\n"
     ]
    }
   ],
   "source": [
    "import nltk\n",
    "nltk.download('stopwords')\n",
    "\n",
    "import numpy as np\n",
    "import pandas as pd\n",
    "import os \n",
    "import re\n",
    "import matplotlib.pyplot as plt\n",
    "from nltk.corpus import stopwords\n",
    "from bs4 import BeautifulSoup\n",
    "from tensorflow.keras.preprocessing.text import Tokenizer\n",
    "from tensorflow.keras.preprocessing.sequence import pad_sequences\n",
    "import urllib.request\n",
    "import warnings\n",
    "warnings.filterwarnings(\"ignore\", category=UserWarning, module='bs4')\n",
    "\n",
    "print(nltk.__version__)\n",
    "print(tensorflow.__version__)\n",
    "print(version('summa'))"
   ]
  },
  {
   "cell_type": "markdown",
   "id": "db379688",
   "metadata": {},
   "source": [
    "## Step 1. 데이터 수집하기\n",
    "\n",
    "\n"
   ]
  },
  {
   "cell_type": "code",
   "execution_count": 4,
   "id": "920c78e4",
   "metadata": {},
   "outputs": [],
   "source": [
    "import urllib.request\n",
    "urllib.request.urlretrieve(\"https://raw.githubusercontent.com/sunnysai12345/News_Summary/master/news_summary_more.csv\", filename=\"news_summary_more.csv\")\n",
    "data = pd.read_csv('news_summary_more.csv', encoding='iso-8859-1')"
   ]
  },
  {
   "cell_type": "code",
   "execution_count": 7,
   "id": "a9524efa",
   "metadata": {},
   "outputs": [
    {
     "data": {
      "text/html": [
       "<div>\n",
       "<style scoped>\n",
       "    .dataframe tbody tr th:only-of-type {\n",
       "        vertical-align: middle;\n",
       "    }\n",
       "\n",
       "    .dataframe tbody tr th {\n",
       "        vertical-align: top;\n",
       "    }\n",
       "\n",
       "    .dataframe thead th {\n",
       "        text-align: right;\n",
       "    }\n",
       "</style>\n",
       "<table border=\"1\" class=\"dataframe\">\n",
       "  <thead>\n",
       "    <tr style=\"text-align: right;\">\n",
       "      <th></th>\n",
       "      <th>headlines</th>\n",
       "      <th>text</th>\n",
       "    </tr>\n",
       "  </thead>\n",
       "  <tbody>\n",
       "    <tr>\n",
       "      <th>43731</th>\n",
       "      <td>Ã¢ÂÂ¹12,400 cr sanctioned to Andhra as specia...</td>\n",
       "      <td>The Central government on Wednesday informed t...</td>\n",
       "    </tr>\n",
       "    <tr>\n",
       "      <th>67417</th>\n",
       "      <td>Sri Lanka to tour India for first full series ...</td>\n",
       "      <td>Sri Lanka will be touring India for a full ser...</td>\n",
       "    </tr>\n",
       "    <tr>\n",
       "      <th>35244</th>\n",
       "      <td>13-year-old boy unearths treasure of king 'Blu...</td>\n",
       "      <td>A 13-year-old boy, along with an amateur archa...</td>\n",
       "    </tr>\n",
       "    <tr>\n",
       "      <th>26888</th>\n",
       "      <td>Wouldn't believe we'll be successful in 2014: ...</td>\n",
       "      <td>Xiaomi's Global VP and India MD Manu Kumar Jai...</td>\n",
       "    </tr>\n",
       "    <tr>\n",
       "      <th>9358</th>\n",
       "      <td>Tumblr removed from Apple's App Store over chi...</td>\n",
       "      <td>Blogging platform Tumblr has been removed from...</td>\n",
       "    </tr>\n",
       "    <tr>\n",
       "      <th>80793</th>\n",
       "      <td>What is the Great Red Spot, solar system's lar...</td>\n",
       "      <td>The Great Red Spot on Jupiter is believed to b...</td>\n",
       "    </tr>\n",
       "    <tr>\n",
       "      <th>55954</th>\n",
       "      <td>BJP wins Gujarat Assembly elections for 6th co...</td>\n",
       "      <td>The Bharatiya Janata Party has secured the req...</td>\n",
       "    </tr>\n",
       "    <tr>\n",
       "      <th>14058</th>\n",
       "      <td>Tencent no longer one of the world's 10 bigges...</td>\n",
       "      <td>Chinese gaming and social media giant Tencent ...</td>\n",
       "    </tr>\n",
       "    <tr>\n",
       "      <th>26587</th>\n",
       "      <td>He called me fat: Gangster who killed Munna Ba...</td>\n",
       "      <td>Convicted UP gangster Sunil Rathi has claimed ...</td>\n",
       "    </tr>\n",
       "    <tr>\n",
       "      <th>66309</th>\n",
       "      <td>1996 Sonipat bomb blasts convict Abdul Tunda g...</td>\n",
       "      <td>A Sonipat court on Tuesday awarded life senten...</td>\n",
       "    </tr>\n",
       "  </tbody>\n",
       "</table>\n",
       "</div>"
      ],
      "text/plain": [
       "                                               headlines  \\\n",
       "43731  Ã¢ÂÂ¹12,400 cr sanctioned to Andhra as specia...   \n",
       "67417  Sri Lanka to tour India for first full series ...   \n",
       "35244  13-year-old boy unearths treasure of king 'Blu...   \n",
       "26888  Wouldn't believe we'll be successful in 2014: ...   \n",
       "9358   Tumblr removed from Apple's App Store over chi...   \n",
       "80793  What is the Great Red Spot, solar system's lar...   \n",
       "55954  BJP wins Gujarat Assembly elections for 6th co...   \n",
       "14058  Tencent no longer one of the world's 10 bigges...   \n",
       "26587  He called me fat: Gangster who killed Munna Ba...   \n",
       "66309  1996 Sonipat bomb blasts convict Abdul Tunda g...   \n",
       "\n",
       "                                                    text  \n",
       "43731  The Central government on Wednesday informed t...  \n",
       "67417  Sri Lanka will be touring India for a full ser...  \n",
       "35244  A 13-year-old boy, along with an amateur archa...  \n",
       "26888  Xiaomi's Global VP and India MD Manu Kumar Jai...  \n",
       "9358   Blogging platform Tumblr has been removed from...  \n",
       "80793  The Great Red Spot on Jupiter is believed to b...  \n",
       "55954  The Bharatiya Janata Party has secured the req...  \n",
       "14058  Chinese gaming and social media giant Tencent ...  \n",
       "26587  Convicted UP gangster Sunil Rathi has claimed ...  \n",
       "66309  A Sonipat court on Tuesday awarded life senten...  "
      ]
     },
     "execution_count": 7,
     "metadata": {},
     "output_type": "execute_result"
    }
   ],
   "source": [
    "data.sample(10)"
   ]
  },
  {
   "cell_type": "markdown",
   "id": "2068b3de",
   "metadata": {},
   "source": [
    "* 기사의 본문에 해당되는 text 와 headlines 두가지 열로 구성되어있습니다.\n",
    "* 추상적 요약을 하는 경우 text를 본문, headlines를 이미 요약된 데이터로 삼아서 모델을 학습할 수 있습니다.\n",
    "* 추출적 요약은 오직 text 열만을 사용합니다."
   ]
  },
  {
   "cell_type": "code",
   "execution_count": 8,
   "id": "7b2591a8",
   "metadata": {},
   "outputs": [
    {
     "name": "stdout",
     "output_type": "stream",
     "text": [
      "전체 샘플수 : 98401\n"
     ]
    }
   ],
   "source": [
    "print('전체 샘플수 :', (len(data)))"
   ]
  },
  {
   "cell_type": "markdown",
   "id": "45c509e7",
   "metadata": {},
   "source": [
    "## Step 2. 데이터 전처리(추상적 요약)\n",
    "* 실습에서 사용된 전처리를 참고하여 각자 필요하다고 생각하는 전처리를 추가 사용하여 텍스트를 정규화 또는 정제.\n",
    "* 만약, 불용어 제거를 선택한다면 상대적으로 길이가 짧은 요약 데이터에 대해서도 불용어를 제거하는 것"
   ]
  },
  {
   "cell_type": "code",
   "execution_count": 10,
   "id": "3ac56a73",
   "metadata": {},
   "outputs": [
    {
     "name": "stdout",
     "output_type": "stream",
     "text": [
      "Text 열에서 중복을 배제한 유일한 샘플의 수 : 98360\n",
      "Summary 열에서 중복을 배제한 유일한 샘플의 수 : 98280\n"
     ]
    }
   ],
   "source": [
    "# 중복 샘플과 NULL 값이 존재하는 샘플 제거\n",
    "print('Text 열에서 중복을 배제한 유일한 샘플의 수 :', data['text'].nunique())\n",
    "print('Summary 열에서 중복을 배제한 유일한 샘플의 수 :', data['headlines'].nunique())"
   ]
  },
  {
   "cell_type": "code",
   "execution_count": 11,
   "id": "de0ef4d7",
   "metadata": {},
   "outputs": [
    {
     "name": "stdout",
     "output_type": "stream",
     "text": [
      "전체 샘플수 : 98360\n"
     ]
    }
   ],
   "source": [
    "# inplace=True 를 설정하면 DataFrame 타입 값을 return 하지 않고 data 내부를 직접적으로 바꿉니다\n",
    "data.drop_duplicates(subset = ['text'], inplace=True)\n",
    "print('전체 샘플수 :', (len(data)))"
   ]
  },
  {
   "cell_type": "code",
   "execution_count": 12,
   "id": "4d1b0e91",
   "metadata": {},
   "outputs": [
    {
     "name": "stdout",
     "output_type": "stream",
     "text": [
      "headlines    0\n",
      "text         0\n",
      "dtype: int64\n"
     ]
    }
   ],
   "source": [
    "print(data.isnull().sum())"
   ]
  },
  {
   "cell_type": "markdown",
   "id": "a79da2e5",
   "metadata": {},
   "source": [
    "* NULL 값이 없습니다.\n",
    "### 텍스트 정규화와 불용어 제거\n"
   ]
  },
  {
   "cell_type": "code",
   "execution_count": 13,
   "id": "b9da9086",
   "metadata": {},
   "outputs": [
    {
     "name": "stdout",
     "output_type": "stream",
     "text": [
      "정규화 사전의 수:  120\n"
     ]
    }
   ],
   "source": [
    "contractions = {\"ain't\": \"is not\", \"aren't\": \"are not\",\"can't\": \"cannot\", \"'cause\": \"because\", \"could've\": \"could have\", \"couldn't\": \"could not\",\n",
    "                           \"didn't\": \"did not\",  \"doesn't\": \"does not\", \"don't\": \"do not\", \"hadn't\": \"had not\", \"hasn't\": \"has not\", \"haven't\": \"have not\",\n",
    "                           \"he'd\": \"he would\",\"he'll\": \"he will\", \"he's\": \"he is\", \"how'd\": \"how did\", \"how'd'y\": \"how do you\", \"how'll\": \"how will\", \"how's\": \"how is\",\n",
    "                           \"I'd\": \"I would\", \"I'd've\": \"I would have\", \"I'll\": \"I will\", \"I'll've\": \"I will have\",\"I'm\": \"I am\", \"I've\": \"I have\", \"i'd\": \"i would\",\n",
    "                           \"i'd've\": \"i would have\", \"i'll\": \"i will\",  \"i'll've\": \"i will have\",\"i'm\": \"i am\", \"i've\": \"i have\", \"isn't\": \"is not\", \"it'd\": \"it would\",\n",
    "                           \"it'd've\": \"it would have\", \"it'll\": \"it will\", \"it'll've\": \"it will have\",\"it's\": \"it is\", \"let's\": \"let us\", \"ma'am\": \"madam\",\n",
    "                           \"mayn't\": \"may not\", \"might've\": \"might have\",\"mightn't\": \"might not\",\"mightn't've\": \"might not have\", \"must've\": \"must have\",\n",
    "                           \"mustn't\": \"must not\", \"mustn't've\": \"must not have\", \"needn't\": \"need not\", \"needn't've\": \"need not have\",\"o'clock\": \"of the clock\",\n",
    "                           \"oughtn't\": \"ought not\", \"oughtn't've\": \"ought not have\", \"shan't\": \"shall not\", \"sha'n't\": \"shall not\", \"shan't've\": \"shall not have\",\n",
    "                           \"she'd\": \"she would\", \"she'd've\": \"she would have\", \"she'll\": \"she will\", \"she'll've\": \"she will have\", \"she's\": \"she is\",\n",
    "                           \"should've\": \"should have\", \"shouldn't\": \"should not\", \"shouldn't've\": \"should not have\", \"so've\": \"so have\",\"so's\": \"so as\",\n",
    "                           \"this's\": \"this is\",\"that'd\": \"that would\", \"that'd've\": \"that would have\", \"that's\": \"that is\", \"there'd\": \"there would\",\n",
    "                           \"there'd've\": \"there would have\", \"there's\": \"there is\", \"here's\": \"here is\",\"they'd\": \"they would\", \"they'd've\": \"they would have\",\n",
    "                           \"they'll\": \"they will\", \"they'll've\": \"they will have\", \"they're\": \"they are\", \"they've\": \"they have\", \"to've\": \"to have\",\n",
    "                           \"wasn't\": \"was not\", \"we'd\": \"we would\", \"we'd've\": \"we would have\", \"we'll\": \"we will\", \"we'll've\": \"we will have\", \"we're\": \"we are\",\n",
    "                           \"we've\": \"we have\", \"weren't\": \"were not\", \"what'll\": \"what will\", \"what'll've\": \"what will have\", \"what're\": \"what are\",\n",
    "                           \"what's\": \"what is\", \"what've\": \"what have\", \"when's\": \"when is\", \"when've\": \"when have\", \"where'd\": \"where did\", \"where's\": \"where is\",\n",
    "                           \"where've\": \"where have\", \"who'll\": \"who will\", \"who'll've\": \"who will have\", \"who's\": \"who is\", \"who've\": \"who have\",\n",
    "                           \"why's\": \"why is\", \"why've\": \"why have\", \"will've\": \"will have\", \"won't\": \"will not\", \"won't've\": \"will not have\",\n",
    "                           \"would've\": \"would have\", \"wouldn't\": \"would not\", \"wouldn't've\": \"would not have\", \"y'all\": \"you all\",\n",
    "                           \"y'all'd\": \"you all would\",\"y'all'd've\": \"you all would have\",\"y'all're\": \"you all are\",\"y'all've\": \"you all have\",\n",
    "                           \"you'd\": \"you would\", \"you'd've\": \"you would have\", \"you'll\": \"you will\", \"you'll've\": \"you will have\",\n",
    "                           \"you're\": \"you are\", \"you've\": \"you have\"}\n",
    "\n",
    "print(\"정규화 사전의 수: \", len(contractions))"
   ]
  },
  {
   "cell_type": "code",
   "execution_count": 14,
   "id": "e8a6cdb9",
   "metadata": {},
   "outputs": [
    {
     "name": "stdout",
     "output_type": "stream",
     "text": [
      "불용어 개수 : 179\n",
      "['i', 'me', 'my', 'myself', 'we', 'our', 'ours', 'ourselves', 'you', \"you're\", \"you've\", \"you'll\", \"you'd\", 'your', 'yours', 'yourself', 'yourselves', 'he', 'him', 'his', 'himself', 'she', \"she's\", 'her', 'hers', 'herself', 'it', \"it's\", 'its', 'itself', 'they', 'them', 'their', 'theirs', 'themselves', 'what', 'which', 'who', 'whom', 'this', 'that', \"that'll\", 'these', 'those', 'am', 'is', 'are', 'was', 'were', 'be', 'been', 'being', 'have', 'has', 'had', 'having', 'do', 'does', 'did', 'doing', 'a', 'an', 'the', 'and', 'but', 'if', 'or', 'because', 'as', 'until', 'while', 'of', 'at', 'by', 'for', 'with', 'about', 'against', 'between', 'into', 'through', 'during', 'before', 'after', 'above', 'below', 'to', 'from', 'up', 'down', 'in', 'out', 'on', 'off', 'over', 'under', 'again', 'further', 'then', 'once', 'here', 'there', 'when', 'where', 'why', 'how', 'all', 'any', 'both', 'each', 'few', 'more', 'most', 'other', 'some', 'such', 'no', 'nor', 'not', 'only', 'own', 'same', 'so', 'than', 'too', 'very', 's', 't', 'can', 'will', 'just', 'don', \"don't\", 'should', \"should've\", 'now', 'd', 'll', 'm', 'o', 're', 've', 'y', 'ain', 'aren', \"aren't\", 'couldn', \"couldn't\", 'didn', \"didn't\", 'doesn', \"doesn't\", 'hadn', \"hadn't\", 'hasn', \"hasn't\", 'haven', \"haven't\", 'isn', \"isn't\", 'ma', 'mightn', \"mightn't\", 'mustn', \"mustn't\", 'needn', \"needn't\", 'shan', \"shan't\", 'shouldn', \"shouldn't\", 'wasn', \"wasn't\", 'weren', \"weren't\", 'won', \"won't\", 'wouldn', \"wouldn't\"]\n"
     ]
    }
   ],
   "source": [
    "print('불용어 개수 :', len(stopwords.words('english') ))\n",
    "print(stopwords.words('english'))"
   ]
  },
  {
   "cell_type": "code",
   "execution_count": 15,
   "id": "b93c451a",
   "metadata": {},
   "outputs": [
    {
     "name": "stdout",
     "output_type": "stream",
     "text": [
      "=3\n"
     ]
    }
   ],
   "source": [
    "# 데이터 전처리 함수\n",
    "def preprocess_sentence(sentence, remove_stopwords=True):\n",
    "    sentence = sentence.lower() # 텍스트 소문자화\n",
    "    sentence = BeautifulSoup(sentence, \"lxml\").text # <br />, <a href = ...> 등의 html 태그 제거\n",
    "    sentence = re.sub(r'\\([^)]*\\)', '', sentence) # 괄호로 닫힌 문자열 (...) 제거 Ex) my husband (and myself!) for => my husband for\n",
    "    sentence = re.sub('\"','', sentence) # 쌍따옴표 \" 제거\n",
    "    sentence = ' '.join([contractions[t] if t in contractions else t for t in sentence.split(\" \")]) # 약어 정규화\n",
    "    sentence = re.sub(r\"'s\\b\",\"\", sentence) # 소유격 제거. Ex) roland's -> roland\n",
    "    sentence = re.sub(\"[^a-zA-Z]\", \" \", sentence) # 영어 외 문자(숫자, 특수문자 등) 공백으로 변환\n",
    "    sentence = re.sub('[m]{2,}', 'mm', sentence) # m이 3개 이상이면 2개로 변경. Ex) ummmmmmm yeah -> umm yeah\n",
    "    \n",
    "    # 불용어 제거 (Text)\n",
    "    if remove_stopwords:\n",
    "        tokens = ' '.join(word for word in sentence.split() if not word in stopwords.words('english') if len(word) > 1)\n",
    "    # 불용어 미제거 (Summary)\n",
    "    else:\n",
    "        tokens = ' '.join(word for word in sentence.split() if len(word) > 1)\n",
    "    return tokens\n",
    "print('=3')"
   ]
  },
  {
   "cell_type": "code",
   "execution_count": 17,
   "id": "39715ac5",
   "metadata": {},
   "outputs": [
    {
     "name": "stdout",
     "output_type": "stream",
     "text": [
      "text:  everything bought great infact ordered twice third ordered wasfor mother father\n",
      "headlines: great way to start the day\n"
     ]
    }
   ],
   "source": [
    "temp_text = 'Everything I bought was great, infact I ordered twice and the third ordered was<br />for my mother and father.'\n",
    "temp_headlines = 'Great way to start (or finish) the day!!!'\n",
    "\n",
    "print(\"text: \", preprocess_sentence(temp_text))\n",
    "print(\"headlines:\", preprocess_sentence(temp_headlines, False))  # 불용어를 제거하지 않습니다."
   ]
  },
  {
   "cell_type": "code",
   "execution_count": 18,
   "id": "69327b8a",
   "metadata": {},
   "outputs": [
    {
     "name": "stdout",
     "output_type": "stream",
     "text": [
      "text 전처리 후 결과:  ['saurav kant alumnus upgrad iiit pg program machine learning artificial intelligence sr systems engineer infosys almost years work experience program upgrad degree career support helped transition data scientist tech mahindra salary hike upgrad online power learning powered lakh careers', 'kunal shah credit card bill payment platform cred gave users chance win free food swiggy one year pranav kaushik delhi techie bagged reward spending cred coins users get one cred coin per rupee bill paid used avail rewards brands like ixigo bookmyshow ubereats cult fit', 'new zealand defeated india wickets fourth odi hamilton thursday win first match five match odi series india lost international match rohit sharma captaincy consecutive victories dating back march match witnessed india getting seventh lowest total odi cricket history', 'aegon life iterm insurance plan customers enjoy tax benefits premiums paid save taxes plan provides life cover age years also customers options insure critical illnesses disability accidental death benefit rider life cover age years', 'speaking sexual harassment allegations rajkumar hirani sonam kapoor said known hirani many years true metoo movement get derailed metoo movement always believe woman case need reserve judgment added hirani accused assistant worked sanju']\n"
     ]
    }
   ],
   "source": [
    "clean_text = []\n",
    "# 전체 Text 데이터에 대한 전처리.. 오래 걸림\n",
    "for s in data['text']:\n",
    "    clean_text.append(preprocess_sentence(s))\n",
    "\n",
    "# 전처리 후 출력\n",
    "print(\"text 전처리 후 결과: \", clean_text[:5])"
   ]
  },
  {
   "cell_type": "markdown",
   "id": "ef4b831a",
   "metadata": {},
   "source": [
    "* headlines에 대해서 전처리 함수 호출"
   ]
  },
  {
   "cell_type": "code",
   "execution_count": 21,
   "id": "0f821ceb",
   "metadata": {},
   "outputs": [
    {
     "name": "stdout",
     "output_type": "stream",
     "text": [
      "headlines 전처리 후 결과:  ['upgrad learner switches to career in ml al with salary hike', 'delhi techie wins free food from swiggy for one year on cred', 'new zealand end rohit sharma led india match winning streak', 'aegon life iterm insurance plan helps customers save tax', 'have known hirani for yrs what if metoo claims are not true sonam']\n"
     ]
    }
   ],
   "source": [
    "clean_headlines = []\n",
    "# 전체 headlines 데이터에 대한 전처리 : 5분 이상 시간이 걸림. \n",
    "for s in data['headlines']:\n",
    "    clean_headlines.append(preprocess_sentence(s, False))\n",
    "\n",
    "print(\"headlines 전처리 후 결과: \", clean_headlines[:5])"
   ]
  },
  {
   "cell_type": "code",
   "execution_count": 22,
   "id": "315c6803",
   "metadata": {},
   "outputs": [
    {
     "name": "stdout",
     "output_type": "stream",
     "text": [
      "=3\n"
     ]
    }
   ],
   "source": [
    "data['text'] = clean_text\n",
    "data['headlines'] = clean_headlines\n",
    "\n",
    "# 빈 값을 Null 값으로 변환\n",
    "data.replace('', np.nan, inplace=True)\n",
    "print('=3')"
   ]
  },
  {
   "cell_type": "code",
   "execution_count": 23,
   "id": "af70e0b1",
   "metadata": {},
   "outputs": [
    {
     "data": {
      "text/plain": [
       "headlines    0\n",
       "text         0\n",
       "dtype: int64"
      ]
     },
     "execution_count": 23,
     "metadata": {},
     "output_type": "execute_result"
    }
   ],
   "source": [
    "# Null 값이 있는지 확인\n",
    "data.isnull().sum()"
   ]
  },
  {
   "cell_type": "markdown",
   "id": "ee7a1ad9",
   "metadata": {},
   "source": [
    "#### 훈련데이터와 테스트 데이터 나누기\n",
    "\n",
    "##### 샘플의 최대길이 정하기\n",
    "* text와 headlines의 최소, 최대, 평균길이를 구하고 길이 분포를 시각화해봅니다."
   ]
  },
  {
   "cell_type": "code",
   "execution_count": 27,
   "id": "96f26358",
   "metadata": {},
   "outputs": [
    {
     "name": "stdout",
     "output_type": "stream",
     "text": [
      "텍스트의 최소 길이 : 1\n",
      "텍스트의 최대 길이 : 60\n",
      "텍스트의 평균 길이 : 35.09968483123221\n",
      "헤드라인의 최소 길이 : 1\n",
      "헤드라인의 최대 길이 : 16\n",
      "헤드라인의 평균 길이 : 9.299532330215534\n"
     ]
    },
    {
     "data": {
      "image/png": "[encoded data removed]",
      "text/plain": [
       "<Figure size 432x288 with 2 Axes>"
      ]
     },
     "metadata": {
      "needs_background": "light"
     },
     "output_type": "display_data"
    },
    {
     "data": {
      "image/png": "[encoded data removed]",
      "text/plain": [
       "<Figure size 432x288 with 1 Axes>"
      ]
     },
     "metadata": {
      "needs_background": "light"
     },
     "output_type": "display_data"
    },
    {
     "data": {
      "image/png": "[encoded data removed]",
      "text/plain": [
       "<Figure size 432x288 with 1 Axes>"
      ]
     },
     "metadata": {
      "needs_background": "light"
     },
     "output_type": "display_data"
    }
   ],
   "source": [
    "# 길이 분포 출력\n",
    "import matplotlib.pyplot as plt\n",
    "\n",
    "text_len = [len(s.split()) for s in data['text']]\n",
    "headlines_len = [len(s.split()) for s in data['headlines']]\n",
    "\n",
    "print('텍스트의 최소 길이 : {}'.format(np.min(text_len)))\n",
    "print('텍스트의 최대 길이 : {}'.format(np.max(text_len)))\n",
    "print('텍스트의 평균 길이 : {}'.format(np.mean(text_len)))\n",
    "print('헤드라인의 최소 길이 : {}'.format(np.min(headlines_len)))\n",
    "print('헤드라인의 최대 길이 : {}'.format(np.max(headlines_len)))\n",
    "print('헤드라인의 평균 길이 : {}'.format(np.mean(headlines_len)))\n",
    "\n",
    "plt.subplot(1,2,1)\n",
    "plt.boxplot(text_len)\n",
    "plt.title('text')\n",
    "plt.subplot(1,2,2)\n",
    "plt.boxplot(text_len)\n",
    "plt.title('headlines')\n",
    "plt.tight_layout()\n",
    "plt.show()\n",
    "\n",
    "plt.title('text')\n",
    "plt.hist(text_len, bins = 40)\n",
    "plt.xlabel('length of samples')\n",
    "plt.ylabel('number of samples')\n",
    "plt.show()\n",
    "\n",
    "plt.title('headlines')\n",
    "plt.hist(headlines_len, bins = 40)\n",
    "plt.xlabel('length of samples')\n",
    "plt.ylabel('number of samples')\n",
    "plt.show()"
   ]
  },
  {
   "cell_type": "code",
   "execution_count": 31,
   "id": "931be85f",
   "metadata": {},
   "outputs": [
    {
     "name": "stdout",
     "output_type": "stream",
     "text": [
      "=3\n"
     ]
    }
   ],
   "source": [
    "text_max_len = 50\n",
    "headlines_max_len = 16\n",
    "print('=3')"
   ]
  },
  {
   "cell_type": "code",
   "execution_count": 32,
   "id": "59f2d357",
   "metadata": {},
   "outputs": [
    {
     "name": "stdout",
     "output_type": "stream",
     "text": [
      "=3\n"
     ]
    }
   ],
   "source": [
    "def below_threshold_len(max_len, nested_list):\n",
    "  cnt = 0\n",
    "  for s in nested_list:\n",
    "    if(len(s.split()) <= max_len):\n",
    "        cnt = cnt + 1\n",
    "  print('전체 샘플 중 길이가 %s 이하인 샘플의 비율: %s'%(max_len, (cnt / len(nested_list))))\n",
    "print('=3')"
   ]
  },
  {
   "cell_type": "code",
   "execution_count": 33,
   "id": "a03474ac",
   "metadata": {},
   "outputs": [
    {
     "name": "stdout",
     "output_type": "stream",
     "text": [
      "전체 샘플 중 길이가 50 이하인 샘플의 비율: 0.9998576657177715\n",
      "전체 샘플 중 길이가 16 이하인 샘플의 비율: 1.0\n"
     ]
    }
   ],
   "source": [
    "below_threshold_len(text_max_len, data['text'])\n",
    "below_threshold_len(headlines_max_len,  data['headlines'])"
   ]
  },
  {
   "cell_type": "code",
   "execution_count": 35,
   "id": "515be27e",
   "metadata": {},
   "outputs": [
    {
     "name": "stdout",
     "output_type": "stream",
     "text": [
      "전체 샘플수 : 98346\n"
     ]
    }
   ],
   "source": [
    "data = data[data['text'].apply(lambda x: len(x.split()) <= text_max_len)]\n",
    "data = data[data['headlines'].apply(lambda x: len(x.split()) <= headlines_max_len)]\n",
    "print('전체 샘플수 :', (len(data)))"
   ]
  },
  {
   "cell_type": "markdown",
   "id": "1e3972af",
   "metadata": {},
   "source": [
    "* 시작 토큰과 종료 토큰 추가하기 "
   ]
  },
  {
   "cell_type": "code",
   "execution_count": 37,
   "id": "d86d5475",
   "metadata": {},
   "outputs": [
    {
     "data": {
      "text/html": [
       "<div>\n",
       "<style scoped>\n",
       "    .dataframe tbody tr th:only-of-type {\n",
       "        vertical-align: middle;\n",
       "    }\n",
       "\n",
       "    .dataframe tbody tr th {\n",
       "        vertical-align: top;\n",
       "    }\n",
       "\n",
       "    .dataframe thead th {\n",
       "        text-align: right;\n",
       "    }\n",
       "</style>\n",
       "<table border=\"1\" class=\"dataframe\">\n",
       "  <thead>\n",
       "    <tr style=\"text-align: right;\">\n",
       "      <th></th>\n",
       "      <th>headlines</th>\n",
       "      <th>text</th>\n",
       "      <th>decoder_input</th>\n",
       "      <th>decoder_target</th>\n",
       "    </tr>\n",
       "  </thead>\n",
       "  <tbody>\n",
       "    <tr>\n",
       "      <th>0</th>\n",
       "      <td>upgrad learner switches to career in ml al wit...</td>\n",
       "      <td>saurav kant alumnus upgrad iiit pg program mac...</td>\n",
       "      <td>sostoken upgrad learner switches to career in ...</td>\n",
       "      <td>upgrad learner switches to career in ml al wit...</td>\n",
       "    </tr>\n",
       "    <tr>\n",
       "      <th>1</th>\n",
       "      <td>delhi techie wins free food from swiggy for on...</td>\n",
       "      <td>kunal shah credit card bill payment platform c...</td>\n",
       "      <td>sostoken delhi techie wins free food from swig...</td>\n",
       "      <td>delhi techie wins free food from swiggy for on...</td>\n",
       "    </tr>\n",
       "    <tr>\n",
       "      <th>2</th>\n",
       "      <td>new zealand end rohit sharma led india match w...</td>\n",
       "      <td>new zealand defeated india wickets fourth odi ...</td>\n",
       "      <td>sostoken new zealand end rohit sharma led indi...</td>\n",
       "      <td>new zealand end rohit sharma led india match w...</td>\n",
       "    </tr>\n",
       "    <tr>\n",
       "      <th>3</th>\n",
       "      <td>aegon life iterm insurance plan helps customer...</td>\n",
       "      <td>aegon life iterm insurance plan customers enjo...</td>\n",
       "      <td>sostoken aegon life iterm insurance plan helps...</td>\n",
       "      <td>aegon life iterm insurance plan helps customer...</td>\n",
       "    </tr>\n",
       "    <tr>\n",
       "      <th>4</th>\n",
       "      <td>have known hirani for yrs what if metoo claims...</td>\n",
       "      <td>speaking sexual harassment allegations rajkuma...</td>\n",
       "      <td>sostoken have known hirani for yrs what if met...</td>\n",
       "      <td>have known hirani for yrs what if metoo claims...</td>\n",
       "    </tr>\n",
       "  </tbody>\n",
       "</table>\n",
       "</div>"
      ],
      "text/plain": [
       "                                           headlines  \\\n",
       "0  upgrad learner switches to career in ml al wit...   \n",
       "1  delhi techie wins free food from swiggy for on...   \n",
       "2  new zealand end rohit sharma led india match w...   \n",
       "3  aegon life iterm insurance plan helps customer...   \n",
       "4  have known hirani for yrs what if metoo claims...   \n",
       "\n",
       "                                                text  \\\n",
       "0  saurav kant alumnus upgrad iiit pg program mac...   \n",
       "1  kunal shah credit card bill payment platform c...   \n",
       "2  new zealand defeated india wickets fourth odi ...   \n",
       "3  aegon life iterm insurance plan customers enjo...   \n",
       "4  speaking sexual harassment allegations rajkuma...   \n",
       "\n",
       "                                       decoder_input  \\\n",
       "0  sostoken upgrad learner switches to career in ...   \n",
       "1  sostoken delhi techie wins free food from swig...   \n",
       "2  sostoken new zealand end rohit sharma led indi...   \n",
       "3  sostoken aegon life iterm insurance plan helps...   \n",
       "4  sostoken have known hirani for yrs what if met...   \n",
       "\n",
       "                                      decoder_target  \n",
       "0  upgrad learner switches to career in ml al wit...  \n",
       "1  delhi techie wins free food from swiggy for on...  \n",
       "2  new zealand end rohit sharma led india match w...  \n",
       "3  aegon life iterm insurance plan helps customer...  \n",
       "4  have known hirani for yrs what if metoo claims...  "
      ]
     },
     "execution_count": 37,
     "metadata": {},
     "output_type": "execute_result"
    }
   ],
   "source": [
    "# 요약 데이터에는 시작 토큰과 종료 토큰을 추가한다.\n",
    "data['decoder_input'] = data['headlines'].apply(lambda x : 'sostoken '+ x)\n",
    "data['decoder_target'] = data['headlines'].apply(lambda x : x + ' eostoken')\n",
    "data.head()"
   ]
  },
  {
   "cell_type": "code",
   "execution_count": 39,
   "id": "35fb5bc9",
   "metadata": {},
   "outputs": [
    {
     "name": "stdout",
     "output_type": "stream",
     "text": [
      "=3\n"
     ]
    }
   ],
   "source": [
    "# 인코더의 입력, 디코더의 입력과 레이블을 각각 다시 Numpy 타입으로 저장\n",
    "encoder_input = np.array(data['text']) # 인코더의 입력\n",
    "decoder_input = np.array(data['decoder_input']) # 디코더의 입력\n",
    "decoder_target = np.array(data['decoder_target']) # 디코더의 레이블\n",
    "print('=3')"
   ]
  },
  {
   "cell_type": "code",
   "execution_count": 40,
   "id": "bcf48991",
   "metadata": {},
   "outputs": [
    {
     "name": "stdout",
     "output_type": "stream",
     "text": [
      "[90966 48654 88828 ... 24157 87252 75776]\n"
     ]
    }
   ],
   "source": [
    "# 훈련데이터와 테스트 데이터를 분리\n",
    "# encoder_input과 크기와 형태가 같은 순서가 섞인 정수 시퀀스를 만듭니다.\n",
    "indices = np.arange(encoder_input.shape[0])\n",
    "np.random.shuffle(indices)\n",
    "print(indices)"
   ]
  },
  {
   "cell_type": "code",
   "execution_count": 41,
   "id": "41da0d22",
   "metadata": {},
   "outputs": [
    {
     "name": "stdout",
     "output_type": "stream",
     "text": [
      "=3\n"
     ]
    }
   ],
   "source": [
    "encoder_input = encoder_input[indices]\n",
    "decoder_input = decoder_input[indices]\n",
    "decoder_target = decoder_target[indices]\n",
    "print('=3')"
   ]
  },
  {
   "cell_type": "code",
   "execution_count": 42,
   "id": "f815d783",
   "metadata": {},
   "outputs": [
    {
     "name": "stdout",
     "output_type": "stream",
     "text": [
      "테스트 데이터의 수 : 19669\n"
     ]
    }
   ],
   "source": [
    "# 섞인 데이터를 8:2의 비율로 훈련데이터와 테스트 데이터로 분리\n",
    "# 전체 데이터의 크기에서 0.2를 곱해서 테스트 데이터의 크기를 정의합니다.\n",
    "n_of_val = int(len(encoder_input)*0.2)\n",
    "print('테스트 데이터의 수 :', n_of_val)"
   ]
  },
  {
   "cell_type": "code",
   "execution_count": 43,
   "id": "35a986ca",
   "metadata": {},
   "outputs": [
    {
     "name": "stdout",
     "output_type": "stream",
     "text": [
      "훈련 데이터의 개수 : 78677\n",
      "훈련 레이블의 개수 : 78677\n",
      "테스트 데이터의 개수 : 19669\n",
      "테스트 레이블의 개수 : 19669\n"
     ]
    }
   ],
   "source": [
    "encoder_input_train = encoder_input[:-n_of_val]\n",
    "decoder_input_train = decoder_input[:-n_of_val]\n",
    "decoder_target_train = decoder_target[:-n_of_val]\n",
    "\n",
    "encoder_input_test = encoder_input[-n_of_val:]\n",
    "decoder_input_test = decoder_input[-n_of_val:]\n",
    "decoder_target_test = decoder_target[-n_of_val:]\n",
    "\n",
    "print('훈련 데이터의 개수 :', len(encoder_input_train))\n",
    "print('훈련 레이블의 개수 :', len(decoder_input_train))\n",
    "print('테스트 데이터의 개수 :', len(encoder_input_test))\n",
    "print('테스트 레이블의 개수 :', len(decoder_input_test))"
   ]
  },
  {
   "cell_type": "markdown",
   "id": "7fb50a2d",
   "metadata": {},
   "source": [
    "#### 정수 인코딩\n",
    "\n",
    "* 단어 집합 만들기 및 정수 인코딩"
   ]
  },
  {
   "cell_type": "code",
   "execution_count": 44,
   "id": "8fa2aca4",
   "metadata": {},
   "outputs": [
    {
     "name": "stdout",
     "output_type": "stream",
     "text": [
      "=3\n"
     ]
    }
   ],
   "source": [
    "src_tokenizer = Tokenizer() # 토크나이저 정의\n",
    "src_tokenizer.fit_on_texts(encoder_input_train) # 입력된 데이터로부터 단어 집합 생성\n",
    "print('=3')"
   ]
  },
  {
   "cell_type": "markdown",
   "id": "e8a6abd0",
   "metadata": {},
   "source": [
    "* src_tokenizer.word_counts.items()에는 단어와 각 단어의 등장 빈도수가 저장되어 있습니다. "
   ]
  },
  {
   "cell_type": "code",
   "execution_count": 45,
   "id": "2ec585c9",
   "metadata": {
    "scrolled": true
   },
   "outputs": [
    {
     "name": "stdout",
     "output_type": "stream",
     "text": [
      "단어 집합(vocabulary)의 크기 : 69546\n",
      "등장 빈도가 6번 이하인 희귀 단어의 수: 47309\n",
      "단어 집합에서 희귀 단어를 제외시킬 경우의 단어 집합의 크기 22237\n",
      "단어 집합에서 희귀 단어의 비율: 68.02547953872258\n",
      "전체 등장 빈도에서 희귀 단어 등장 빈도 비율: 3.4654718537020477\n"
     ]
    }
   ],
   "source": [
    "threshold = 7\n",
    "total_cnt = len(src_tokenizer.word_index) # 단어의 수\n",
    "rare_cnt = 0 # 등장 빈도수가 threshold보다 작은 단어의 개수를 카운트\n",
    "total_freq = 0 # 훈련 데이터의 전체 단어 빈도수 총 합\n",
    "rare_freq = 0 # 등장 빈도수가 threshold보다 작은 단어의 등장 빈도수의 총 합\n",
    "\n",
    "# 단어와 빈도수의 쌍(pair)을 key와 value로 받는다.\n",
    "for key, value in src_tokenizer.word_counts.items():\n",
    "    total_freq = total_freq + value\n",
    "\n",
    "    # 단어의 등장 빈도수가 threshold보다 작으면\n",
    "    if(value < threshold):\n",
    "        rare_cnt = rare_cnt + 1\n",
    "        rare_freq = rare_freq + value\n",
    "\n",
    "print('단어 집합(vocabulary)의 크기 :', total_cnt)\n",
    "print('등장 빈도가 %s번 이하인 희귀 단어의 수: %s'%(threshold - 1, rare_cnt))\n",
    "print('단어 집합에서 희귀 단어를 제외시킬 경우의 단어 집합의 크기 %s'%(total_cnt - rare_cnt))\n",
    "print(\"단어 집합에서 희귀 단어의 비율:\", (rare_cnt / total_cnt)*100)\n",
    "print(\"전체 등장 빈도에서 희귀 단어 등장 빈도 비율:\", (rare_freq / total_freq)*100)"
   ]
  },
  {
   "cell_type": "code",
   "execution_count": 46,
   "id": "924130f4",
   "metadata": {},
   "outputs": [
    {
     "name": "stdout",
     "output_type": "stream",
     "text": [
      "=3\n"
     ]
    }
   ],
   "source": [
    "src_vocab = 8000\n",
    "src_tokenizer = Tokenizer(num_words=src_vocab) # 단어 집합의 크기를 8,000으로 제한\n",
    "src_tokenizer.fit_on_texts(encoder_input_train) # 단어 집합 재생성\n",
    "print('=3')"
   ]
  },
  {
   "cell_type": "code",
   "execution_count": 47,
   "id": "702d41a7",
   "metadata": {},
   "outputs": [
    {
     "name": "stdout",
     "output_type": "stream",
     "text": [
      "[[666, 1221, 127, 93, 764, 3414, 7255, 2810, 909, 266, 2213, 33, 7560, 4728, 1061, 4059, 1590, 909, 153, 2140, 287, 3636, 194, 342, 731, 1056, 2280, 1504, 909, 202, 1481], [261, 114, 3614, 54, 721, 182, 450, 226, 503, 18, 2530, 4972, 606, 1062, 240, 606, 1143, 18, 17, 114, 255, 18, 17, 255, 18, 258, 1575, 606, 2911, 1743, 1910, 732, 2440], [27, 20, 62, 1113, 37, 2671, 157, 542, 1936, 810, 20, 761, 37, 1080, 3030, 157, 672, 527, 5278, 755, 157, 6142, 2501, 1296, 1077, 569, 465, 1]]\n"
     ]
    }
   ],
   "source": [
    "# 텍스트 시퀀스를 정수 시퀀스로 변환\n",
    "encoder_input_train = src_tokenizer.texts_to_sequences(encoder_input_train) \n",
    "encoder_input_test = src_tokenizer.texts_to_sequences(encoder_input_test)\n",
    "\n",
    "# 잘 진행되었는지 샘플 출력\n",
    "print(encoder_input_train[:3])"
   ]
  },
  {
   "cell_type": "code",
   "execution_count": 48,
   "id": "0c99d327",
   "metadata": {},
   "outputs": [
    {
     "name": "stdout",
     "output_type": "stream",
     "text": [
      "=3\n"
     ]
    }
   ],
   "source": [
    "tar_tokenizer = Tokenizer()\n",
    "tar_tokenizer.fit_on_texts(decoder_input_train)\n",
    "print('=3')"
   ]
  },
  {
   "cell_type": "code",
   "execution_count": 49,
   "id": "2f600667",
   "metadata": {},
   "outputs": [
    {
     "name": "stdout",
     "output_type": "stream",
     "text": [
      "단어 집합(vocabulary)의 크기 : 30063\n",
      "등장 빈도가 5번 이하인 희귀 단어의 수: 19684\n",
      "단어 집합에서 희귀 단어를 제외시킬 경우의 단어 집합의 크기 10379\n",
      "단어 집합에서 희귀 단어의 비율: 65.47583408176163\n",
      "전체 등장 빈도에서 희귀 단어 등장 빈도 비율: 4.6734358627516075\n"
     ]
    }
   ],
   "source": [
    "threshold = 6\n",
    "total_cnt = len(tar_tokenizer.word_index) # 단어의 수\n",
    "rare_cnt = 0 # 등장 빈도수가 threshold보다 작은 단어의 개수를 카운트\n",
    "total_freq = 0 # 훈련 데이터의 전체 단어 빈도수 총 합\n",
    "rare_freq = 0 # 등장 빈도수가 threshold보다 작은 단어의 등장 빈도수의 총 합\n",
    "\n",
    "# 단어와 빈도수의 쌍(pair)을 key와 value로 받는다.\n",
    "for key, value in tar_tokenizer.word_counts.items():\n",
    "    total_freq = total_freq + value\n",
    "\n",
    "    # 단어의 등장 빈도수가 threshold보다 작으면\n",
    "    if(value < threshold):\n",
    "        rare_cnt = rare_cnt + 1\n",
    "        rare_freq = rare_freq + value\n",
    "\n",
    "print('단어 집합(vocabulary)의 크기 :', total_cnt)\n",
    "print('등장 빈도가 %s번 이하인 희귀 단어의 수: %s'%(threshold - 1, rare_cnt))\n",
    "print('단어 집합에서 희귀 단어를 제외시킬 경우의 단어 집합의 크기 %s'%(total_cnt - rare_cnt))\n",
    "print(\"단어 집합에서 희귀 단어의 비율:\", (rare_cnt / total_cnt)*100)\n",
    "print(\"전체 등장 빈도에서 희귀 단어 등장 빈도 비율:\", (rare_freq / total_freq)*100)"
   ]
  },
  {
   "cell_type": "code",
   "execution_count": 50,
   "id": "75c687c6",
   "metadata": {},
   "outputs": [
    {
     "name": "stdout",
     "output_type": "stream",
     "text": [
      "input\n",
      "input  [[1, 1325, 776, 48, 7, 1362], [1, 576, 207, 6, 966, 4, 214], [1, 20, 3, 116, 682, 495, 128], [1, 1296, 17, 7, 96, 52], [1, 384, 34, 331, 132, 629, 89, 361, 14, 916]]\n",
      "target\n",
      "decoder  [[1325, 776, 48, 7, 1362, 2], [576, 207, 6, 966, 4, 214, 2], [20, 3, 116, 682, 495, 128, 2], [1296, 17, 7, 96, 52, 2], [384, 34, 331, 132, 629, 89, 361, 14, 916, 2]]\n"
     ]
    }
   ],
   "source": [
    "tar_vocab = 2000\n",
    "tar_tokenizer = Tokenizer(num_words=tar_vocab) \n",
    "tar_tokenizer.fit_on_texts(decoder_input_train)\n",
    "tar_tokenizer.fit_on_texts(decoder_target_train)\n",
    "\n",
    "# 텍스트 시퀀스를 정수 시퀀스로 변환\n",
    "decoder_input_train = tar_tokenizer.texts_to_sequences(decoder_input_train) \n",
    "decoder_target_train = tar_tokenizer.texts_to_sequences(decoder_target_train)\n",
    "decoder_input_test = tar_tokenizer.texts_to_sequences(decoder_input_test)\n",
    "decoder_target_test = tar_tokenizer.texts_to_sequences(decoder_target_test)\n",
    "\n",
    "# 잘 변환되었는지 확인\n",
    "print('input')\n",
    "print('input ',decoder_input_train[:5])\n",
    "print('target')\n",
    "print('decoder ',decoder_target_train[:5])"
   ]
  },
  {
   "cell_type": "code",
   "execution_count": 51,
   "id": "45c8b724",
   "metadata": {},
   "outputs": [
    {
     "name": "stdout",
     "output_type": "stream",
     "text": [
      "삭제할 훈련 데이터의 개수 : 8\n",
      "삭제할 테스트 데이터의 개수 : 4\n",
      "훈련 데이터의 개수 : 78669\n",
      "훈련 레이블의 개수 : 78669\n",
      "테스트 데이터의 개수 : 19665\n",
      "테스트 레이블의 개수 : 19665\n"
     ]
    }
   ],
   "source": [
    "drop_train = [index for index, sentence in enumerate(decoder_input_train) if len(sentence) == 1]\n",
    "drop_test = [index for index, sentence in enumerate(decoder_input_test) if len(sentence) == 1]\n",
    "\n",
    "print('삭제할 훈련 데이터의 개수 :', len(drop_train))\n",
    "print('삭제할 테스트 데이터의 개수 :', len(drop_test))\n",
    "\n",
    "encoder_input_train = [sentence for index, sentence in enumerate(encoder_input_train) if index not in drop_train]\n",
    "decoder_input_train = [sentence for index, sentence in enumerate(decoder_input_train) if index not in drop_train]\n",
    "decoder_target_train = [sentence for index, sentence in enumerate(decoder_target_train) if index not in drop_train]\n",
    "\n",
    "encoder_input_test = [sentence for index, sentence in enumerate(encoder_input_test) if index not in drop_test]\n",
    "decoder_input_test = [sentence for index, sentence in enumerate(decoder_input_test) if index not in drop_test]\n",
    "decoder_target_test = [sentence for index, sentence in enumerate(decoder_target_test) if index not in drop_test]\n",
    "\n",
    "print('훈련 데이터의 개수 :', len(encoder_input_train))\n",
    "print('훈련 레이블의 개수 :', len(decoder_input_train))\n",
    "print('테스트 데이터의 개수 :', len(encoder_input_test))\n",
    "print('테스트 레이블의 개수 :', len(decoder_input_test))"
   ]
  },
  {
   "cell_type": "markdown",
   "id": "b5644926",
   "metadata": {},
   "source": [
    "* Padding 하기"
   ]
  },
  {
   "cell_type": "code",
   "execution_count": 52,
   "id": "2ed3b8c9",
   "metadata": {},
   "outputs": [
    {
     "name": "stdout",
     "output_type": "stream",
     "text": [
      "=3\n"
     ]
    }
   ],
   "source": [
    "encoder_input_train = pad_sequences(encoder_input_train, maxlen=text_max_len, padding='post')\n",
    "encoder_input_test = pad_sequences(encoder_input_test, maxlen=text_max_len, padding='post')\n",
    "decoder_input_train = pad_sequences(decoder_input_train, maxlen=summary_max_len, padding='post')\n",
    "decoder_target_train = pad_sequences(decoder_target_train, maxlen=summary_max_len, padding='post')\n",
    "decoder_input_test = pad_sequences(decoder_input_test, maxlen=summary_max_len, padding='post')\n",
    "decoder_target_test = pad_sequences(decoder_target_test, maxlen=summary_max_len, padding='post')\n",
    "print('=3')"
   ]
  },
  {
   "cell_type": "markdown",
   "id": "8d05a311",
   "metadata": {},
   "source": [
    "## Step 3. Attention 메커니즘 사용하기(추상적요약)\n",
    "* 어텐션 메커니즘을 사용한 seq2seq를 설계"
   ]
  },
  {
   "cell_type": "code",
   "execution_count": 53,
   "id": "d90026f9",
   "metadata": {},
   "outputs": [],
   "source": [
    "from tensorflow.keras.layers import Input, LSTM, Embedding, Dense, Concatenate, TimeDistributed\n",
    "from tensorflow.keras.models import Model\n",
    "from tensorflow.keras.callbacks import EarlyStopping, ModelCheckpoint\n",
    "\n",
    "\n",
    "# 인코더 설계 시작\n",
    "embedding_dim = 128\n",
    "hidden_size = 256\n",
    "\n",
    "# 인코더\n",
    "encoder_inputs = Input(shape=(text_max_len,))\n",
    "\n",
    "# 인코더의 임베딩 층\n",
    "enc_emb = Embedding(src_vocab, embedding_dim)(encoder_inputs)\n",
    "\n",
    "# 인코더의 LSTM 1\n",
    "# encoder_lstm1 = LSTM(hidden_size, return_sequences=True, return_state=True ,dropout = 0.4, recurrent_dropout = 0.4)\n",
    "encoder_lstm1 = LSTM(hidden_size, return_sequences=True, return_state=True ,dropout = 0.4)\n",
    "encoder_output1, state_h1, state_c1 = encoder_lstm1(enc_emb)\n",
    "\n",
    "# 인코더의 LSTM 2\n",
    "# encoder_lstm2 = LSTM(hidden_size, return_sequences=True, return_state=True, dropout=0.4, recurrent_dropout=0.4)\n",
    "encoder_lstm2 = LSTM(hidden_size, return_sequences=True, return_state=True, dropout=0.4)\n",
    "encoder_output2, state_h2, state_c2 = encoder_lstm2(encoder_output1)\n",
    "\n",
    "# 인코더의 LSTM 3\n",
    "# encoder_lstm3 = LSTM(hidden_size, return_state=True, return_sequences=True, dropout=0.4, recurrent_dropout=0.4)\n",
    "encoder_lstm3 = LSTM(hidden_size, return_state=True, return_sequences=True, dropout=0.4)\n",
    "encoder_outputs, state_h, state_c= encoder_lstm3(encoder_output2)"
   ]
  },
  {
   "cell_type": "code",
   "execution_count": 54,
   "id": "98dfa365",
   "metadata": {},
   "outputs": [],
   "source": [
    "# 디코더 설계\n",
    "decoder_inputs = Input(shape=(None,))\n",
    "\n",
    "# 디코더의 임베딩 층\n",
    "dec_emb_layer = Embedding(tar_vocab, embedding_dim)\n",
    "dec_emb = dec_emb_layer(decoder_inputs)\n",
    "\n",
    "# 디코더의 LSTM\n",
    "# decoder_lstm = LSTM(hidden_size, return_sequences=True, return_state=True, dropout=0.4, recurrent_dropout=0.2)\n",
    "decoder_lstm = LSTM(hidden_size, return_sequences=True, return_state=True, dropout=0.4)\n",
    "decoder_outputs, _, _ = decoder_lstm(dec_emb, initial_state=[state_h, state_c])"
   ]
  },
  {
   "cell_type": "markdown",
   "id": "b9e7a1b6",
   "metadata": {},
   "source": [
    "* 디코더의 임베딩 층과 LSTM을 설계하는 것은 인코더와 거의 동일하나, LSTM의 입력을 정의할 때, initial_state의 인자값으로 인코더의 hidden state와 cell state의 값을 넣어주어야 합니다.\n",
    "\n",
    "\n",
    "* 디코더의 출력층 설계"
   ]
  },
  {
   "cell_type": "code",
   "execution_count": 55,
   "id": "03618b9e",
   "metadata": {},
   "outputs": [
    {
     "name": "stdout",
     "output_type": "stream",
     "text": [
      "Model: \"model\"\n",
      "__________________________________________________________________________________________________\n",
      "Layer (type)                    Output Shape         Param #     Connected to                     \n",
      "==================================================================================================\n",
      "input_1 (InputLayer)            [(None, 50)]         0                                            \n",
      "__________________________________________________________________________________________________\n",
      "embedding (Embedding)           (None, 50, 128)      1024000     input_1[0][0]                    \n",
      "__________________________________________________________________________________________________\n",
      "lstm (LSTM)                     [(None, 50, 256), (N 394240      embedding[0][0]                  \n",
      "__________________________________________________________________________________________________\n",
      "input_2 (InputLayer)            [(None, None)]       0                                            \n",
      "__________________________________________________________________________________________________\n",
      "lstm_1 (LSTM)                   [(None, 50, 256), (N 525312      lstm[0][0]                       \n",
      "__________________________________________________________________________________________________\n",
      "embedding_1 (Embedding)         (None, None, 128)    256000      input_2[0][0]                    \n",
      "__________________________________________________________________________________________________\n",
      "lstm_2 (LSTM)                   [(None, 50, 256), (N 525312      lstm_1[0][0]                     \n",
      "__________________________________________________________________________________________________\n",
      "lstm_3 (LSTM)                   [(None, None, 256),  394240      embedding_1[0][0]                \n",
      "                                                                 lstm_2[0][1]                     \n",
      "                                                                 lstm_2[0][2]                     \n",
      "__________________________________________________________________________________________________\n",
      "dense (Dense)                   (None, None, 2000)   514000      lstm_3[0][0]                     \n",
      "==================================================================================================\n",
      "Total params: 3,633,104\n",
      "Trainable params: 3,633,104\n",
      "Non-trainable params: 0\n",
      "__________________________________________________________________________________________________\n"
     ]
    }
   ],
   "source": [
    "# 디코더의 출력층\n",
    "decoder_softmax_layer = Dense(tar_vocab, activation='softmax')\n",
    "decoder_softmax_outputs = decoder_softmax_layer(decoder_outputs) \n",
    "\n",
    "# 모델 정의\n",
    "model = Model([encoder_inputs, decoder_inputs], decoder_softmax_outputs)\n",
    "model.summary()"
   ]
  },
  {
   "cell_type": "markdown",
   "id": "d67d9a9e",
   "metadata": {},
   "source": [
    "### 어텐션 메커니즘\n",
    "* Bahdanau 스타일의 어텐션을 사용합니다.\n",
    "\n",
    "* 어텐션 층을 만들고, 위에서 설계한 디코더의 출력층을 수정합니다."
   ]
  },
  {
   "cell_type": "code",
   "execution_count": 56,
   "id": "4b3c5dec",
   "metadata": {},
   "outputs": [
    {
     "name": "stdout",
     "output_type": "stream",
     "text": [
      "Model: \"model_1\"\n",
      "__________________________________________________________________________________________________\n",
      "Layer (type)                    Output Shape         Param #     Connected to                     \n",
      "==================================================================================================\n",
      "input_1 (InputLayer)            [(None, 50)]         0                                            \n",
      "__________________________________________________________________________________________________\n",
      "embedding (Embedding)           (None, 50, 128)      1024000     input_1[0][0]                    \n",
      "__________________________________________________________________________________________________\n",
      "lstm (LSTM)                     [(None, 50, 256), (N 394240      embedding[0][0]                  \n",
      "__________________________________________________________________________________________________\n",
      "input_2 (InputLayer)            [(None, None)]       0                                            \n",
      "__________________________________________________________________________________________________\n",
      "lstm_1 (LSTM)                   [(None, 50, 256), (N 525312      lstm[0][0]                       \n",
      "__________________________________________________________________________________________________\n",
      "embedding_1 (Embedding)         (None, None, 128)    256000      input_2[0][0]                    \n",
      "__________________________________________________________________________________________________\n",
      "lstm_2 (LSTM)                   [(None, 50, 256), (N 525312      lstm_1[0][0]                     \n",
      "__________________________________________________________________________________________________\n",
      "lstm_3 (LSTM)                   [(None, None, 256),  394240      embedding_1[0][0]                \n",
      "                                                                 lstm_2[0][1]                     \n",
      "                                                                 lstm_2[0][2]                     \n",
      "__________________________________________________________________________________________________\n",
      "attention_layer (AdditiveAttent (None, None, 256)    256         lstm_3[0][0]                     \n",
      "                                                                 lstm_2[0][0]                     \n",
      "__________________________________________________________________________________________________\n",
      "concat_layer (Concatenate)      (None, None, 512)    0           lstm_3[0][0]                     \n",
      "                                                                 attention_layer[0][0]            \n",
      "__________________________________________________________________________________________________\n",
      "dense_1 (Dense)                 (None, None, 2000)   1026000     concat_layer[0][0]               \n",
      "==================================================================================================\n",
      "Total params: 4,145,360\n",
      "Trainable params: 4,145,360\n",
      "Non-trainable params: 0\n",
      "__________________________________________________________________________________________________\n"
     ]
    }
   ],
   "source": [
    "from tensorflow.keras.layers import AdditiveAttention\n",
    "\n",
    "# 어텐션 층(어텐션 함수)\n",
    "attn_layer = AdditiveAttention(name='attention_layer')\n",
    "\n",
    "# 인코더와 디코더의 모든 time step의 hidden state를 어텐션 층에 전달하고 결과를 리턴\n",
    "attn_out = attn_layer([decoder_outputs, encoder_outputs])\n",
    "\n",
    "\n",
    "# 어텐션의 결과와 디코더의 hidden state들을 연결\n",
    "decoder_concat_input = Concatenate(axis=-1, name='concat_layer')([decoder_outputs, attn_out])\n",
    "\n",
    "# 디코더의 출력층\n",
    "decoder_softmax_layer = Dense(tar_vocab, activation='softmax')\n",
    "decoder_softmax_outputs = decoder_softmax_layer(decoder_concat_input)\n",
    "\n",
    "# 모델 정의\n",
    "model = Model([encoder_inputs, decoder_inputs], decoder_softmax_outputs)\n",
    "model.summary()"
   ]
  },
  {
   "cell_type": "markdown",
   "id": "afc16415",
   "metadata": {},
   "source": [
    "* 인코더의 hidden state 들과 디코더의 hidden state들을 어텐션 함수의 입력으로 사용하고, 어텐션 함수가 리턴한 값을 예측시에 디코더의 hidden state와 함께 활용하는 형태로 작동하고 있습니다. "
   ]
  },
  {
   "cell_type": "markdown",
   "id": "60f51024",
   "metadata": {},
   "source": [
    "### 모델 훈련하기"
   ]
  },
  {
   "cell_type": "code",
   "execution_count": 57,
   "id": "4fba16a8",
   "metadata": {},
   "outputs": [
    {
     "name": "stdout",
     "output_type": "stream",
     "text": [
      "Epoch 1/50\n",
      "308/308 [==============================] - 43s 71ms/step - loss: 5.1382 - val_loss: 4.8044\n",
      "Epoch 2/50\n",
      "308/308 [==============================] - 21s 69ms/step - loss: 4.5593 - val_loss: 4.3973\n",
      "Epoch 3/50\n",
      "308/308 [==============================] - 22s 71ms/step - loss: 4.2224 - val_loss: 4.1207\n",
      "Epoch 4/50\n",
      "308/308 [==============================] - 22s 72ms/step - loss: 3.9653 - val_loss: 3.9256\n",
      "Epoch 5/50\n",
      "308/308 [==============================] - 22s 72ms/step - loss: 3.7688 - val_loss: 3.7823\n",
      "Epoch 6/50\n",
      "308/308 [==============================] - 22s 71ms/step - loss: 3.6090 - val_loss: 3.6647\n",
      "Epoch 7/50\n",
      "308/308 [==============================] - 22s 71ms/step - loss: 3.4761 - val_loss: 3.5791\n",
      "Epoch 8/50\n",
      "308/308 [==============================] - 22s 72ms/step - loss: 3.3635 - val_loss: 3.5087\n",
      "Epoch 9/50\n",
      "308/308 [==============================] - 22s 72ms/step - loss: 3.2649 - val_loss: 3.4522\n",
      "Epoch 10/50\n",
      "308/308 [==============================] - 22s 72ms/step - loss: 3.1781 - val_loss: 3.3982\n",
      "Epoch 11/50\n",
      "308/308 [==============================] - 22s 72ms/step - loss: 3.1009 - val_loss: 3.3613\n",
      "Epoch 12/50\n",
      "308/308 [==============================] - 22s 71ms/step - loss: 3.0309 - val_loss: 3.3266\n",
      "Epoch 13/50\n",
      "308/308 [==============================] - 22s 72ms/step - loss: 2.9655 - val_loss: 3.3069\n",
      "Epoch 14/50\n",
      "308/308 [==============================] - 22s 72ms/step - loss: 2.9061 - val_loss: 3.2875\n",
      "Epoch 15/50\n",
      "308/308 [==============================] - 22s 72ms/step - loss: 2.8521 - val_loss: 3.2680\n",
      "Epoch 16/50\n",
      "308/308 [==============================] - 22s 72ms/step - loss: 2.8001 - val_loss: 3.2473\n",
      "Epoch 17/50\n",
      "308/308 [==============================] - 22s 71ms/step - loss: 2.7520 - val_loss: 3.2405\n",
      "Epoch 18/50\n",
      "308/308 [==============================] - 22s 72ms/step - loss: 2.7066 - val_loss: 3.2401\n",
      "Epoch 19/50\n",
      "308/308 [==============================] - 22s 72ms/step - loss: 2.6653 - val_loss: 3.2253\n",
      "Epoch 20/50\n",
      "308/308 [==============================] - 22s 72ms/step - loss: 2.6250 - val_loss: 3.2235\n",
      "Epoch 21/50\n",
      "308/308 [==============================] - 22s 72ms/step - loss: 2.5884 - val_loss: 3.2266\n",
      "Epoch 22/50\n",
      "308/308 [==============================] - 22s 72ms/step - loss: 2.5524 - val_loss: 3.2210\n",
      "Epoch 23/50\n",
      "308/308 [==============================] - 22s 72ms/step - loss: 2.5183 - val_loss: 3.2217\n",
      "Epoch 24/50\n",
      "308/308 [==============================] - 22s 72ms/step - loss: 2.4863 - val_loss: 3.2248\n",
      "Epoch 00024: early stopping\n"
     ]
    }
   ],
   "source": [
    "model.compile(optimizer='rmsprop', loss='sparse_categorical_crossentropy')\n",
    "es = EarlyStopping(monitor='val_loss', patience=2, verbose=1)\n",
    "history = model.fit(x=[encoder_input_train, decoder_input_train], y=decoder_target_train, \\\n",
    "          validation_data=([encoder_input_test, decoder_input_test], decoder_target_test), \\\n",
    "          batch_size=256, callbacks=[es], epochs=50)"
   ]
  },
  {
   "cell_type": "code",
   "execution_count": 61,
   "id": "e415c8ee",
   "metadata": {},
   "outputs": [
    {
     "data": {
      "image/png": "[encoded data removed]",
      "text/plain": [
       "<Figure size 432x288 with 1 Axes>"
      ]
     },
     "metadata": {
      "needs_background": "light"
     },
     "output_type": "display_data"
    }
   ],
   "source": [
    "plt.plot(history.history['loss'], label='train')\n",
    "plt.plot(history.history['val_loss'], label='test')\n",
    "plt.legend()\n",
    "plt.show()"
   ]
  },
  {
   "cell_type": "markdown",
   "id": "06ccbbdf",
   "metadata": {},
   "source": [
    "#### 인퍼런스 모델 구현하기"
   ]
  },
  {
   "cell_type": "code",
   "execution_count": 62,
   "id": "a86ae092",
   "metadata": {},
   "outputs": [
    {
     "name": "stdout",
     "output_type": "stream",
     "text": [
      "=3\n"
     ]
    }
   ],
   "source": [
    "src_index_to_word = src_tokenizer.index_word # 원문 단어 집합에서 정수 -> 단어를 얻음\n",
    "tar_word_to_index = tar_tokenizer.word_index # 요약 단어 집합에서 단어 -> 정수를 얻음\n",
    "tar_index_to_word = tar_tokenizer.index_word # 요약 단어 집합에서 정수 -> 단어를 얻음\n",
    "\n",
    "print('=3')"
   ]
  },
  {
   "cell_type": "code",
   "execution_count": 63,
   "id": "fbf0c201",
   "metadata": {},
   "outputs": [
    {
     "name": "stdout",
     "output_type": "stream",
     "text": [
      "=3\n"
     ]
    }
   ],
   "source": [
    "# 인코더 설계\n",
    "encoder_model = Model(inputs=encoder_inputs, outputs=[encoder_outputs, state_h, state_c])\n",
    "\n",
    "# 이전 시점의 상태들을 저장하는 텐서\n",
    "decoder_state_input_h = Input(shape=(hidden_size,))\n",
    "decoder_state_input_c = Input(shape=(hidden_size,))\n",
    "\n",
    "dec_emb2 = dec_emb_layer(decoder_inputs)\n",
    "\n",
    "# 문장의 다음 단어를 예측하기 위해서 초기 상태(initial_state)를 이전 시점의 상태로 사용. 이는 뒤의 함수 decode_sequence()에 구현\n",
    "# 훈련 과정에서와 달리 LSTM의 리턴하는 은닉 상태와 셀 상태인 state_h와 state_c를 버리지 않음.\n",
    "decoder_outputs2, state_h2, state_c2 = decoder_lstm(dec_emb2, initial_state=[decoder_state_input_h, decoder_state_input_c])\n",
    "\n",
    "print('=3')"
   ]
  },
  {
   "cell_type": "code",
   "execution_count": 64,
   "id": "8e6e1ee4",
   "metadata": {},
   "outputs": [
    {
     "name": "stdout",
     "output_type": "stream",
     "text": [
      "=3\n"
     ]
    }
   ],
   "source": [
    "# 어텐션 함수\n",
    "decoder_hidden_state_input = Input(shape=(text_max_len, hidden_size))\n",
    "attn_out_inf = attn_layer([decoder_outputs2, decoder_hidden_state_input])\n",
    "decoder_inf_concat = Concatenate(axis=-1, name='concat')([decoder_outputs2, attn_out_inf])\n",
    "\n",
    "# 디코더의 출력층\n",
    "decoder_outputs2 = decoder_softmax_layer(decoder_inf_concat) \n",
    "\n",
    "# 최종 디코더 모델\n",
    "decoder_model = Model(\n",
    "    [decoder_inputs] + [decoder_hidden_state_input,decoder_state_input_h, decoder_state_input_c],\n",
    "    [decoder_outputs2] + [state_h2, state_c2])\n",
    "\n",
    "print('=3')"
   ]
  },
  {
   "cell_type": "code",
   "execution_count": 65,
   "id": "85392ab2",
   "metadata": {},
   "outputs": [
    {
     "name": "stdout",
     "output_type": "stream",
     "text": [
      "=3\n"
     ]
    }
   ],
   "source": [
    "def decode_sequence(input_seq):\n",
    "    # 입력으로부터 인코더의 상태를 얻음\n",
    "    e_out, e_h, e_c = encoder_model.predict(input_seq)\n",
    "\n",
    "     # <SOS>에 해당하는 토큰 생성\n",
    "    target_seq = np.zeros((1,1))\n",
    "    target_seq[0, 0] = tar_word_to_index['sostoken']\n",
    "\n",
    "    stop_condition = False\n",
    "    decoded_sentence = ''\n",
    "    while not stop_condition: # stop_condition이 True가 될 때까지 루프 반복\n",
    "\n",
    "        output_tokens, h, c = decoder_model.predict([target_seq] + [e_out, e_h, e_c])\n",
    "        sampled_token_index = np.argmax(output_tokens[0, -1, :])\n",
    "        sampled_token = tar_index_to_word[sampled_token_index]\n",
    "\n",
    "        if (sampled_token!='eostoken'):\n",
    "            decoded_sentence += ' '+sampled_token\n",
    "\n",
    "        #  <eos>에 도달하거나 최대 길이를 넘으면 중단.\n",
    "        if (sampled_token == 'eostoken'  or len(decoded_sentence.split()) >= (summary_max_len-1)):\n",
    "            stop_condition = True\n",
    "\n",
    "        # 길이가 1인 타겟 시퀀스를 업데이트\n",
    "        target_seq = np.zeros((1,1))\n",
    "        target_seq[0, 0] = sampled_token_index\n",
    "\n",
    "        # 상태를 업데이트 합니다.\n",
    "        e_h, e_c = h, c\n",
    "\n",
    "    return decoded_sentence\n",
    "print('=3')"
   ]
  },
  {
   "cell_type": "markdown",
   "id": "88a25c1f",
   "metadata": {},
   "source": [
    "### 모델 테스트하기"
   ]
  },
  {
   "cell_type": "code",
   "execution_count": 66,
   "id": "8ee87088",
   "metadata": {},
   "outputs": [
    {
     "name": "stdout",
     "output_type": "stream",
     "text": [
      "=3\n"
     ]
    }
   ],
   "source": [
    "# 원문의 정수 시퀀스를 텍스트 시퀀스로 변환\n",
    "def seq2text(input_seq):\n",
    "    temp=''\n",
    "    for i in input_seq:\n",
    "        if (i!=0):\n",
    "            temp = temp + src_index_to_word[i]+' '\n",
    "    return temp\n",
    "\n",
    "# 요약문의 정수 시퀀스를 텍스트 시퀀스로 변환\n",
    "def seq2summary(input_seq):\n",
    "    temp=''\n",
    "    for i in input_seq:\n",
    "        if ((i!=0 and i!=tar_word_to_index['sostoken']) and i!=tar_word_to_index['eostoken']):\n",
    "            temp = temp + tar_index_to_word[i] + ' '\n",
    "    return temp\n",
    "\n",
    "print('=3')"
   ]
  },
  {
   "cell_type": "code",
   "execution_count": 67,
   "id": "7372d417",
   "metadata": {},
   "outputs": [
    {
     "name": "stdout",
     "output_type": "stream",
     "text": [
      "원문 : leader facebook instagram accounts blocked following us sanctions facebook said accounts due legal new sanctions us imposed sanctions four russian nationals earlier month alleged human rights abuses \n",
      "실제 요약 : facebook blocks leader account under us sanctions \n",
      "예측 요약 :  facebook accounts accounts not\n",
      "\n",
      "\n",
      "원문 : world number three shuttler pv sindhu defeated world number one chinese premier badminton league saturday chennai sindhu match scoreline hand ahmedabad smash masters first loss season chennai later tie ahmedabad \n",
      "실제 요약 : sindhu world number in league \n",
      "예측 요약 :  world no to win\n",
      "\n",
      "\n",
      "원문 : finance ministry monday announced record crore income tax returns filed financial year showing growth previous fiscal ministry also said number returns filed increased compared lakh new brought income tax fiscal \n",
      "실제 요약 : record crore income tax returns filed in \n",
      "예측 요약 :  govt spent crore on income tax\n",
      "\n",
      "\n",
      "원문 : external affairs minister sushma swaraj said survivor claimed seen indians isis iraq lying claimed escaped dead militants shot indian workers however swaraj said escaped group bangladeshi men changing name ali \n",
      "실제 요약 : about indians get killed govt \n",
      "예측 요약 :  indians have to attack indians in iraq\n",
      "\n",
      "\n",
      "원문 : bollywood actor angad bedi also played delhi cricket teams planning make documentary father former captain indian cricket team singh bedi documentary based year old life began playing indian cricket team \n",
      "실제 요약 : to make on father singh \n",
      "예측 요약 :  actor to play in cricket\n",
      "\n",
      "\n",
      "원문 : congress president rahul gandhi tuesday claimed prime minister narendra modi time travel across country cannot spare minutes address lok sabha said pm modi able stand given minutes question rafale deal pnb fraud accused nirav modi \n",
      "실제 요약 : modi cannot minutes for lok sabha rahul gandhi \n",
      "예측 요약 :  pm modi rahul to rahul gandhi\n",
      "\n",
      "\n",
      "원문 : investigation launched human waste found coca cola factory uk incident involved empty delivered plant ahead filled sealed coca cola said issue identified immediately impact products sale \n",
      "실제 요약 : being after human waste found in \n",
      "예측 요약 :  found to study\n",
      "\n",
      "\n",
      "원문 : sikh student us barred playing high school level football match referee wearing turban referee reportedly cited national federation high school rules state illegal equipment shall worn player school officials opened probe find player religious rights violated \n",
      "실제 요약 : student in us removed from football game over \n",
      "예측 요약 :  us school ban on\n",
      "\n",
      "\n",
      "원문 : trump hotel new york officially changed name part effort trump organization group owns property earlier announced plans ties end notably hotel faced slow business past year \n",
      "실제 요약 : new york trump hotel changes its name \n",
      "예측 요약 :  us to be bought by\n",
      "\n",
      "\n",
      "원문 : men released video claiming responsibility attack jnu student activist khalid failed surrender police committed video calling attack independence day gift indians duo said would surrender village sikh revolutionary singh punjab friday \n",
      "실제 요약 : who took credit for attack on fail to \n",
      "예측 요약 :  video shows students kill in\n",
      "\n",
      "\n",
      "원문 : amid trade war two countries us crude oil china totally stopped president china energy shipping said china second largest buyer us oil canada added trade dispute also forcing china seek suppliers us \n",
      "실제 요약 : us oil to china stopped amid trade war \n",
      "예측 요약 :  us us to trade with china\n",
      "\n",
      "\n",
      "원문 : four farmers killing last hours madhya pradesh allegedly state witnessed total farmer suicides last two weeks reacting situation senior congress leader kamal nath said farmers forced end lives due anti farmer policies bjp government \n",
      "실제 요약 : madhya pradesh of farmers in weeks \n",
      "예측 요약 :  killed in uttar pradesh\n",
      "\n",
      "\n",
      "원문 : digital payments platform paytm acquiring deal discovery startups little million cash stock deal according reports little provide online discount restaurants commercial establishment deals notably paytm backed investors alibaba softbank reportedly valued billion \n",
      "실제 요약 : paytm to startups for mn report \n",
      "예측 요약 :  paytm backed payments startup raises mn\n",
      "\n",
      "\n",
      "원문 : anupam kher accidental prime minister released today affair keeps throughout wrote times according ndtv film neither film adaptation manmohan singh wrote rated \n",
      "실제 요약 : the prime minister hits theatres \n",
      "예측 요약 :  film hits the theatres\n",
      "\n",
      "\n",
      "원문 : bihar police district directed muslim youth clean police station ahead independence day celebrations alleged anti india pro pakistan activities son serving home guard jawan allegedly posted photos pakistan pm nawaz sharif anti india terrorists facebook \n",
      "실제 요약 : india bihar boy to clean police station as \n",
      "예측 요약 :  bihar police to train\n",
      "\n",
      "\n",
      "원문 : salman khan brother law aayush sharma said wishes star kid married someone belongs film family grow film sets enough learn added said understand lot things related \n",
      "실제 요약 : was star kid salman brother in law sharma \n",
      "예측 요약 :  salman to star in film\n",
      "\n",
      "\n",
      "원문 : science fiction film war planet released friday rare maybe twice every year wrote hindustan times times india said thought film action special effects mid day described rated \n",
      "실제 요약 : for the planet of the hits the theatres \n",
      "예측 요약 :  war war hits the theatres\n",
      "\n",
      "\n",
      "원문 : indian harmanpreet kaur said developed skill six hitting playing alongside men years career talking unbeaten run knock icc women world cup semifinal australia harmanpreet said happy played knock team needed team \n",
      "실제 요약 : while playing with men \n",
      "예측 요약 :  indian men in men\n",
      "\n",
      "\n",
      "원문 : services major wipro appointed former ibm executive bill senior vice president global head company healthcare life sciences division earlier headed ibm services healthcare life sciences business us also worked bengaluru based company former healthcare head jeff resigned august \n",
      "실제 요약 : appoints former exec bill as head \n",
      "예측 요약 :  former head of head\n",
      "\n",
      "\n",
      "원문 : veteran indian pacer ashish nehra cricket november said would play ipl would representing national team people say still play ipl always trained play india leaving leave completely nehra added \n",
      "실제 요약 : no playing ipl if not playing for india \n",
      "예측 요약 :  playing for csk playing\n",
      "\n",
      "\n",
      "원문 : targeting opposition save constitution rally held mumbai friday maharashtra chief minister devendra fadnavis said rally held save party constitution constitution held today save party rally save constitution rally congress ncp power remember constitution said \n",
      "실제 요약 : held rally to save party not maha cm \n",
      "예측 요약 :  maharashtra cm calls for emergency\n",
      "\n",
      "\n",
      "원문 : airbnb china start host guest information including passport details chinese government starting friday said local regulations like businesses operating china chinese regulations require citizens tourists register addresses police within hours nation staying hotel \n",
      "실제 요약 : china to share host info with government \n",
      "예측 요약 :  china china to china\n",
      "\n",
      "\n",
      "원문 : gurugram based hospitality startup oyo said hold first round share buyback offered current former employees january estimated crore around holders participate round startup revealed expects total million next years \n",
      "실제 요약 : worth cr from staff ex workers in jan \n",
      "예측 요약 :  gurugram based to\n",
      "\n",
      "\n",
      "원문 : mit researchers developed carbon dioxide emissions power plants fuel oxygen carbon dioxide leaving carbon serves fuel separation driven temperatures reaching stream hydrogen maintained side attract oxygen \n",
      "실제 요약 : mit turns into fuel \n",
      "예측 요약 :  mit develops fuel to power\n",
      "\n",
      "\n",
      "원문 : board madhya pradesh proposed teach students love country help students know much importance religion following attached love country government stated \n",
      "실제 요약 : in mp to nation in \n",
      "예측 요약 :  mp govt to students for\n",
      "\n",
      "\n",
      "원문 : ex indian cricket team captain singh bedi took twitter share picture wedding ceremony son angad actress neha dhupia one may god couple always guru wrote alongside picture angad reportedly dated actress marrying neha \n",
      "실제 요약 : on son wedding to \n",
      "예측 요약 :  shares pic with his son\n",
      "\n",
      "\n",
      "원문 : year old man killed lightning tamil nadu trying take picture mobile phone police said victim friends tried pick found injuries face chest police officials added following incident police warned people trying take photographs lightning \n",
      "실제 요약 : killed by while trying to take its photo \n",
      "예측 요약 :  man kills self for phone phone\n",
      "\n",
      "\n",
      "원문 : west bengal cm mamata banerjee monday said centre crore various schemes year government added government paid debt crore centre talking state expenditure banerjee said crore would allocated separately development state \n",
      "실제 요약 : centre over crore to west bengal cm mamata \n",
      "예측 요약 :  govt to cr for in west bengal\n",
      "\n",
      "\n",
      "원문 : actor alok nath turned monday said reading letters fans would send birthday added age celebration thought comes mind days alok known roles films like hum hain among others \n",
      "실제 요약 : miss which fans would send on my day \n",
      "예측 요약 :  am so for me on day\n",
      "\n",
      "\n",
      "원문 : miss korea kim crowned miss friday poland colombia named first runner second runner respectively india official entry competition reached top failed make top \n",
      "실제 요약 : miss korea kim miss \n",
      "예측 요약 :  wins in south korea\n",
      "\n",
      "\n",
      "원문 : day announcing plans form political party actor rajinikanth monday launched new website urged fans register names voter id numbers thanking fans accepting entry politics asked come together one organisation bring good change tamil nadu politics \n",
      "실제 요약 : rajinikanth launches website urges fans to come together \n",
      "예측 요약 :  launches new ad after results\n",
      "\n",
      "\n",
      "원문 : trends showed congress third place mcd polls congress leader said campaign party since one asked party put aggressive campaign added criticising delhi congress chief ajay earlier said unable reach party leaders \n",
      "실제 요약 : campaign for polls as no one asked me \n",
      "예측 요약 :  congress to cong\n",
      "\n",
      "\n",
      "원문 : hundreds ancient roman gold coins discovered site old theatre northern italy ministry culture announced coins found stone theatre city theatre scheduled demolition way construction luxury residence \n",
      "실제 요약 : of gold in italy \n",
      "예측 요약 :  kg gold in australia\n",
      "\n",
      "\n",
      "원문 : defender jitendra singh aged years six months days became youngest league history scoring indian tuesday singh represented india world cup went past earlier youngest score years months days \n",
      "실제 요약 : yr old youngest in league year history \n",
      "예측 요약 :  yr old who lost in years\n",
      "\n",
      "\n",
      "원문 : responding survey india blaming higher parts taj mahal poor maintenance supreme court said fly court added situation would done job surprised way defending \n",
      "실제 요약 : can fly sc asks for to taj mahal \n",
      "예측 요약 :  taj mahal from taj mahal\n",
      "\n",
      "\n",
      "원문 : former south african cricketer quoted pm narendra modi make india initiative thanking wishing daughter birthday whose two year old daughter named india said blessed born country many amazing people used hashtag tweet \n",
      "실제 요약 : make in india to modi \n",
      "예측 요약 :  pm modi wishes on his th birthday\n",
      "\n",
      "\n",
      "원문 : talking states barring cbi finance minister arun jaitley said lot hide take step saying let cbi come state said states sovereignty matters corruption andhra pradesh west bengal barred cbi conducting raids states without approval \n",
      "실제 요약 : have lot to arun jaitley on states cbi \n",
      "예측 요약 :  no of in india fm jaitley\n",
      "\n",
      "\n",
      "원문 : much kg drugs along mobile phones found prisons uk last year government revealed admitting situation unacceptable shortage prison staff officials said million worth investment technology detect phones dogs trained find drugs helped recover illegal items \n",
      "실제 요약 : kg of drugs mobile phones found in uk \n",
      "예측 요약 :  drug found using drugs in\n",
      "\n",
      "\n",
      "원문 : killed two others injured five armed criminals shot inside bihar court friday two police officials responsible security court suspended investigation find incident took place adequate security present court premises police officials said \n",
      "실제 요약 : shot at inside bihar court officials suspended \n",
      "예측 요약 :  killed in bihar murder case\n",
      "\n",
      "\n",
      "원문 : many farmers maharashtra committed suicide january july year compared suicides period last year according government data farmer suicides reported past months maharashtra announced farm loan waiver june highest number suicides reported \n",
      "실제 요약 : over maharashtra farmers suicide in months \n",
      "예측 요약 :  farmers suicide in maharashtra\n",
      "\n",
      "\n",
      "원문 : astronomers university cambridge discovered smallest known star slightly larger saturn light years earth star likely small stars possibly become said researchers smaller pressure centre would sufficient hydrogen process powers sun added \n",
      "실제 요약 : ever star in the discovered \n",
      "예측 요약 :  star star star star star star\n",
      "\n",
      "\n",
      "원문 : bombay high court thursday state government demands noise pollution rules festival state government told cannot go high court judgment allow sound silence zone hour day \n",
      "실제 요약 : cannot rules during festival bombay hc \n",
      "예측 요약 :  hc to maha govt\n",
      "\n",
      "\n",
      "원문 : uttar pradesh minister sandeep singh friday mistakenly termed th republic day th addressing gathering aligarh singh said celebrating india th republic day sandeep singh mla constituency aligarh minister state primary secondary education government \n",
      "실제 요약 : up minister mistakenly th day as th \n",
      "예측 요약 :  up minister meets in\n",
      "\n",
      "\n",
      "원문 : three residents maharashtra including two youngsters intercepted friday allegedly smuggling foreign currency worth nearly lakh mumbai airport officials said accused rolled currency accused booked flight tickets separately avoid suspicion caught leaving dubai \n",
      "실제 요약 : three caught foreign currency in their \n",
      "예측 요약 :  maha police currency worth crore\n",
      "\n",
      "\n",
      "원문 : teaser ajay devgn emraan hashmi starrer released directed milan film revolves around robbery emergency india also starring ileana cruz esha gupta action thriller release september \n",
      "실제 요약 : teaser of ajay released \n",
      "예측 요약 :  teaser of rajkummar starrer released\n",
      "\n",
      "\n",
      "원문 : addressing sunday sydney glenn asked steve smith david warner cameron bancroft players involved ball tampering incident earlier friday former captain steve smith broke tears urged nation press conference sydney airport \n",
      "실제 요약 : australian for smith warner \n",
      "예측 요약 :  smith warner\n",
      "\n",
      "\n",
      "원문 : photo gallery iphones technology giant apple since first launched first iphone priced offered inch camera apple reportedly said release three versions upcoming iphone today \n",
      "실제 요약 : in pictures of in years \n",
      "예측 요약 :  apple launches its first iphone\n",
      "\n",
      "\n",
      "원문 : man uttar pradesh alleged pushed away cm yogi adityanath approached cm complaint mla mani tripathi claiming mla captured man said gave cm yogi papers threw away saying action taken \n",
      "실제 요약 : claims cm yogi him away when about mla \n",
      "예측 요약 :  bjp mla yogi adityanath in up\n",
      "\n",
      "\n",
      "원문 : model celebrated eid al boyfriend malik family members took instagram share story featured younger sister azad home eid wrote caption story dating since recently march \n",
      "실제 요약 : celebrates with boyfriend and his family \n",
      "예측 요약 :  actress to her boyfriend\n",
      "\n",
      "\n",
      "원문 : kapil malhotra indian cricket team manager champions trophy reported incident captain virat kohli former coach anil kumble bcci asked malhotra report incident may affected dressing room environment bcci sought reports anil patel administrative manager india home test season \n",
      "실제 요약 : india manager reports no incident between kumble kohli \n",
      "예측 요약 :  kapil sharma to virat kohli reports\n",
      "\n",
      "\n"
     ]
    }
   ],
   "source": [
    "for i in range(50, 100):\n",
    "    print(\"원문 :\", seq2text(encoder_input_test[i]))\n",
    "    print(\"실제 요약 :\", seq2summary(decoder_input_test[i]))\n",
    "    print(\"예측 요약 :\", decode_sequence(encoder_input_test[i].reshape(1, text_max_len)))\n",
    "    print(\"\\n\")"
   ]
  },
  {
   "cell_type": "markdown",
   "id": "966752d2",
   "metadata": {},
   "source": [
    "## Step 4. 실제 결과와 요약문 비교하기(추상적 요약)\n",
    "\n",
    "\n",
    "* 원래의 요약문(headlines 열)과 학습을 통해 얻은 추상적 요약의 결과를 비교\n",
    "\n",
    "원문 : leader facebook instagram accounts blocked following us sanctions facebook said accounts due legal new sanctions us imposed sanctions four russian nationals earlier month alleged human rights abuses \n",
    "실제 요약 : facebook blocks leader account under us sanctions \n",
    "예측 요약 :  facebook accounts accounts not\n",
    "\n",
    "원문 : hundreds ancient roman gold coins discovered site old theatre northern italy ministry culture announced coins found stone theatre city theatre scheduled demolition way construction luxury residence \n",
    "실제 요약 : of gold in italy \n",
    "예측 요약 :  kg gold in australia\n",
    "\n",
    "* 첫번째 예시처럼 의미는 어느정도 상충하지만, accounts, accounts 같이 단어가 2번 나오는 예시도 있었습니다.\n",
    "* 두번째 요약에서 실제는 italy 였지만 예측한 요약은 austrailia로 나온 것처럼 잘못된 정보를 요약하는 경우도 있었습니다. "
   ]
  },
  {
   "cell_type": "markdown",
   "id": "9df3a73e",
   "metadata": {},
   "source": [
    "## Step 5. Summa을 이용해서 추출적 요약 해보기\n",
    "* Summa의 summarize를 사용하여 추출적 요약을 합니다. "
   ]
  },
  {
   "cell_type": "code",
   "execution_count": 68,
   "id": "f3e53885",
   "metadata": {},
   "outputs": [],
   "source": [
    "import requests\n",
    "from summa.summarizer import summarize\n"
   ]
  },
  {
   "cell_type": "code",
   "execution_count": 72,
   "id": "204cd1db",
   "metadata": {},
   "outputs": [],
   "source": [
    "urllib.request.urlretrieve(\"https://raw.githubusercontent.com/sunnysai12345/News_Summary/master/news_summary_more.csv\", filename=\"news_summary_more.csv\")\n",
    "data = pd.read_csv('news_summary_more.csv', encoding='iso-8859-1')"
   ]
  },
  {
   "cell_type": "code",
   "execution_count": 73,
   "id": "dd8deca6",
   "metadata": {},
   "outputs": [
    {
     "data": {
      "text/html": [
       "<div>\n",
       "<style scoped>\n",
       "    .dataframe tbody tr th:only-of-type {\n",
       "        vertical-align: middle;\n",
       "    }\n",
       "\n",
       "    .dataframe tbody tr th {\n",
       "        vertical-align: top;\n",
       "    }\n",
       "\n",
       "    .dataframe thead th {\n",
       "        text-align: right;\n",
       "    }\n",
       "</style>\n",
       "<table border=\"1\" class=\"dataframe\">\n",
       "  <thead>\n",
       "    <tr style=\"text-align: right;\">\n",
       "      <th></th>\n",
       "      <th>headlines</th>\n",
       "      <th>text</th>\n",
       "    </tr>\n",
       "  </thead>\n",
       "  <tbody>\n",
       "    <tr>\n",
       "      <th>0</th>\n",
       "      <td>upGrad learner switches to career in ML &amp; Al w...</td>\n",
       "      <td>Saurav Kant, an alumnus of upGrad and IIIT-B's...</td>\n",
       "    </tr>\n",
       "    <tr>\n",
       "      <th>1</th>\n",
       "      <td>Delhi techie wins free food from Swiggy for on...</td>\n",
       "      <td>Kunal Shah's credit card bill payment platform...</td>\n",
       "    </tr>\n",
       "    <tr>\n",
       "      <th>2</th>\n",
       "      <td>New Zealand end Rohit Sharma-led India's 12-ma...</td>\n",
       "      <td>New Zealand defeated India by 8 wickets in the...</td>\n",
       "    </tr>\n",
       "    <tr>\n",
       "      <th>3</th>\n",
       "      <td>Aegon life iTerm insurance plan helps customer...</td>\n",
       "      <td>With Aegon Life iTerm Insurance plan, customer...</td>\n",
       "    </tr>\n",
       "    <tr>\n",
       "      <th>4</th>\n",
       "      <td>Have known Hirani for yrs, what if MeToo claim...</td>\n",
       "      <td>Speaking about the sexual harassment allegatio...</td>\n",
       "    </tr>\n",
       "    <tr>\n",
       "      <th>...</th>\n",
       "      <td>...</td>\n",
       "      <td>...</td>\n",
       "    </tr>\n",
       "    <tr>\n",
       "      <th>98396</th>\n",
       "      <td>CRPF jawan axed to death by Maoists in Chhatti...</td>\n",
       "      <td>A CRPF jawan was on Tuesday axed to death with...</td>\n",
       "    </tr>\n",
       "    <tr>\n",
       "      <th>98397</th>\n",
       "      <td>First song from Sonakshi Sinha's 'Noor' titled...</td>\n",
       "      <td>'Uff Yeh', the first song from the Sonakshi Si...</td>\n",
       "    </tr>\n",
       "    <tr>\n",
       "      <th>98398</th>\n",
       "      <td>'The Matrix' film to get a reboot: Reports</td>\n",
       "      <td>According to reports, a new version of the 199...</td>\n",
       "    </tr>\n",
       "    <tr>\n",
       "      <th>98399</th>\n",
       "      <td>Snoop Dogg aims gun at clown dressed as Trump ...</td>\n",
       "      <td>A new music video shows rapper Snoop Dogg aimi...</td>\n",
       "    </tr>\n",
       "    <tr>\n",
       "      <th>98400</th>\n",
       "      <td>Madhesi Morcha withdraws support to Nepalese g...</td>\n",
       "      <td>Madhesi Morcha, an alliance of seven political...</td>\n",
       "    </tr>\n",
       "  </tbody>\n",
       "</table>\n",
       "<p>98401 rows × 2 columns</p>\n",
       "</div>"
      ],
      "text/plain": [
       "                                               headlines  \\\n",
       "0      upGrad learner switches to career in ML & Al w...   \n",
       "1      Delhi techie wins free food from Swiggy for on...   \n",
       "2      New Zealand end Rohit Sharma-led India's 12-ma...   \n",
       "3      Aegon life iTerm insurance plan helps customer...   \n",
       "4      Have known Hirani for yrs, what if MeToo claim...   \n",
       "...                                                  ...   \n",
       "98396  CRPF jawan axed to death by Maoists in Chhatti...   \n",
       "98397  First song from Sonakshi Sinha's 'Noor' titled...   \n",
       "98398         'The Matrix' film to get a reboot: Reports   \n",
       "98399  Snoop Dogg aims gun at clown dressed as Trump ...   \n",
       "98400  Madhesi Morcha withdraws support to Nepalese g...   \n",
       "\n",
       "                                                    text  \n",
       "0      Saurav Kant, an alumnus of upGrad and IIIT-B's...  \n",
       "1      Kunal Shah's credit card bill payment platform...  \n",
       "2      New Zealand defeated India by 8 wickets in the...  \n",
       "3      With Aegon Life iTerm Insurance plan, customer...  \n",
       "4      Speaking about the sexual harassment allegatio...  \n",
       "...                                                  ...  \n",
       "98396  A CRPF jawan was on Tuesday axed to death with...  \n",
       "98397  'Uff Yeh', the first song from the Sonakshi Si...  \n",
       "98398  According to reports, a new version of the 199...  \n",
       "98399  A new music video shows rapper Snoop Dogg aimi...  \n",
       "98400  Madhesi Morcha, an alliance of seven political...  \n",
       "\n",
       "[98401 rows x 2 columns]"
      ]
     },
     "execution_count": 73,
     "metadata": {},
     "output_type": "execute_result"
    }
   ],
   "source": [
    "data"
   ]
  },
  {
   "cell_type": "code",
   "execution_count": 87,
   "id": "e215c45f",
   "metadata": {},
   "outputs": [
    {
     "name": "stdout",
     "output_type": "stream",
     "text": [
      "원문 : leader facebook instagram accounts blocked following us sanctions facebook said accounts due legal new sanctions us imposed sanctions four russian nationals earlier month alleged human rights abuses \n",
      "실제 요약 : facebook blocks leader account under us sanctions \n",
      "예측 요약 :  facebook accounts accounts not\n",
      "추출 요약 : Former Finance Minister Yashwant Sinha on Tuesday demanded a probe into the alleged diversion of loans worth Ã¢ÂÂ¹31,000 crore by Dewan Housing Finance (DHFL).\n",
      "\n",
      "\n",
      "원문 : world number three shuttler pv sindhu defeated world number one chinese premier badminton league saturday chennai sindhu match scoreline hand ahmedabad smash masters first loss season chennai later tie ahmedabad \n",
      "실제 요약 : sindhu world number in league \n",
      "예측 요약 :  world no to win\n",
      "추출 요약 : Boeing retained its position as the world's largest planemaker for the seventh straight year, delivering 806 aircraft in 2018.\n",
      "\n",
      "\n",
      "원문 : finance ministry monday announced record crore income tax returns filed financial year showing growth previous fiscal ministry also said number returns filed increased compared lakh new brought income tax fiscal \n",
      "실제 요약 : record crore income tax returns filed in \n",
      "예측 요약 :  govt spent crore on income tax\n",
      "추출 요약 : \n",
      "\n",
      "\n",
      "원문 : external affairs minister sushma swaraj said survivor claimed seen indians isis iraq lying claimed escaped dead militants shot indian workers however swaraj said escaped group bangladeshi men changing name ali \n",
      "실제 요약 : about indians get killed govt \n",
      "예측 요약 :  indians have to attack indians in iraq\n",
      "추출 요약 : Further, its OnePlus 6 emerged as the highest selling premium smartphone of 2018 followed by OnePlus 6T.\n",
      "\n",
      "\n",
      "원문 : bollywood actor angad bedi also played delhi cricket teams planning make documentary father former captain indian cricket team singh bedi documentary based year old life began playing indian cricket team \n",
      "실제 요약 : to make on father singh \n",
      "예측 요약 :  actor to play in cricket\n",
      "추출 요약 : \n",
      "\n",
      "\n",
      "원문 : congress president rahul gandhi tuesday claimed prime minister narendra modi time travel across country cannot spare minutes address lok sabha said pm modi able stand given minutes question rafale deal pnb fraud accused nirav modi \n",
      "실제 요약 : modi cannot minutes for lok sabha rahul gandhi \n",
      "예측 요약 :  pm modi rahul to rahul gandhi\n",
      "추출 요약 : Actress Mishti, who has featured in 'Manikarnika: The Queen of Jhansi', has said the film's co-director Kangana Ranaut made false promises to the cast.\n",
      "\n",
      "\n",
      "원문 : investigation launched human waste found coca cola factory uk incident involved empty delivered plant ahead filled sealed coca cola said issue identified immediately impact products sale \n",
      "실제 요약 : being after human waste found in \n",
      "예측 요약 :  found to study\n",
      "추출 요약 : The high-powered committee led by PM Narendra Modi to select the next CBI Director will meet again on February 1, Congress leader Mallikarjun Kharge has said.\n",
      "\n",
      "\n",
      "원문 : sikh student us barred playing high school level football match referee wearing turban referee reportedly cited national federation high school rules state illegal equipment shall worn player school officials opened probe find player religious rights violated \n",
      "실제 요약 : student in us removed from football game over \n",
      "예측 요약 :  us school ban on\n",
      "추출 요약 : \n",
      "\n",
      "\n",
      "원문 : trump hotel new york officially changed name part effort trump organization group owns property earlier announced plans ties end notably hotel faced slow business past year \n",
      "실제 요약 : new york trump hotel changes its name \n",
      "예측 요약 :  us to be bought by\n",
      "추출 요약 : \n",
      "\n",
      "\n",
      "원문 : men released video claiming responsibility attack jnu student activist khalid failed surrender police committed video calling attack independence day gift indians duo said would surrender village sikh revolutionary singh punjab friday \n",
      "실제 요약 : who took credit for attack on fail to \n",
      "예측 요약 :  video shows students kill in\n",
      "추출 요약 : Sreesanth further said the bookie tried dragging him into spot-fixing but he didn't fall for it.\n",
      "\n",
      "\n",
      "원문 : amid trade war two countries us crude oil china totally stopped president china energy shipping said china second largest buyer us oil canada added trade dispute also forcing china seek suppliers us \n",
      "실제 요약 : us oil to china stopped amid trade war \n",
      "예측 요약 :  us us to trade with china\n",
      "추출 요약 : The Finance Ministry on Wednesday said the government will present an Interim Budget on February 1.\n",
      "\n",
      "\n",
      "원문 : four farmers killing last hours madhya pradesh allegedly state witnessed total farmer suicides last two weeks reacting situation senior congress leader kamal nath said farmers forced end lives due anti farmer policies bjp government \n",
      "실제 요약 : madhya pradesh of farmers in weeks \n",
      "예측 요약 :  killed in uttar pradesh\n",
      "추출 요약 : US President Donald Trump on Wednesday called his country's top intelligence chiefs \"naive\" and \"wrong\" on Iran and added that they should perhaps \"go back to school\".\n",
      "\n",
      "\n",
      "원문 : digital payments platform paytm acquiring deal discovery startups little million cash stock deal according reports little provide online discount restaurants commercial establishment deals notably paytm backed investors alibaba softbank reportedly valued billion \n",
      "실제 요약 : paytm to startups for mn report \n",
      "예측 요약 :  paytm backed payments startup raises mn\n",
      "추출 요약 : A senior priest at the Vatican who handled cases of sexual abuse has quit after being accused of sexual abuse by a former nun.\n",
      "\n",
      "\n",
      "원문 : anupam kher accidental prime minister released today affair keeps throughout wrote times according ndtv film neither film adaptation manmohan singh wrote rated \n",
      "실제 요약 : the prime minister hits theatres \n",
      "예측 요약 :  film hits the theatres\n",
      "추출 요약 : A 22-year-old writer turned down a job offer, claiming she was bullied to the point of tears during her two-hour interview by a UK company's CEO.\n",
      "\n",
      "\n",
      "원문 : bihar police district directed muslim youth clean police station ahead independence day celebrations alleged anti india pro pakistan activities son serving home guard jawan allegedly posted photos pakistan pm nawaz sharif anti india terrorists facebook \n",
      "실제 요약 : india bihar boy to clean police station as \n",
      "예측 요약 :  bihar police to train\n",
      "추출 요약 : Noida Police has arrested Sector 20 station in-charge Manoj Pant and three journalists for allegedly extorting money from a call centre owner for removing his name from an FIR.\n",
      "\n",
      "\n",
      "원문 : salman khan brother law aayush sharma said wishes star kid married someone belongs film family grow film sets enough learn added said understand lot things related \n",
      "실제 요약 : was star kid salman brother in law sharma \n",
      "예측 요약 :  salman to star in film\n",
      "추출 요약 : Airtel Africa, the holding company for Airtel's operations in 14 African countries, is preparing for an initial public offering.\n",
      "\n",
      "\n",
      "원문 : science fiction film war planet released friday rare maybe twice every year wrote hindustan times times india said thought film action special effects mid day described rated \n",
      "실제 요약 : for the planet of the hits the theatres \n",
      "예측 요약 :  war war hits the theatres\n",
      "추출 요약 : Actor Shreyas Talpade said that 'Golmaal' filmmaker Rohit Shetty is still working on the script for the fifth instalment of the 'Golmaal' film franchise.\n",
      "\n",
      "\n",
      "원문 : indian harmanpreet kaur said developed skill six hitting playing alongside men years career talking unbeaten run knock icc women world cup semifinal australia harmanpreet said happy played knock team needed team \n",
      "실제 요약 : while playing with men \n",
      "예측 요약 :  indian men in men\n",
      "추출 요약 : A 72-year-old man named Terry Sanderson has sued 'Avengers' actress Gwyneth Paltrow for allegedly crashing into him while skiing, and is seeking $3.1 million (over Ã¢ÂÂ¹22 crore) in damages.\n",
      "\n",
      "\n",
      "원문 : services major wipro appointed former ibm executive bill senior vice president global head company healthcare life sciences division earlier headed ibm services healthcare life sciences business us also worked bengaluru based company former healthcare head jeff resigned august \n",
      "실제 요약 : appoints former exec bill as head \n",
      "예측 요약 :  former head of head\n",
      "추출 요약 : Yami Gautam was felicitated by Border Security Force (BSF) in Amritsar for her performance in 'Uri: The Surgical Strike'.\n",
      "\n",
      "\n",
      "원문 : veteran indian pacer ashish nehra cricket november said would play ipl would representing national team people say still play ipl always trained play india leaving leave completely nehra added \n",
      "실제 요약 : no playing ipl if not playing for india \n",
      "예측 요약 :  playing for csk playing\n",
      "추출 요약 : \n",
      "\n",
      "\n",
      "원문 : targeting opposition save constitution rally held mumbai friday maharashtra chief minister devendra fadnavis said rally held save party constitution constitution held today save party rally save constitution rally congress ncp power remember constitution said \n",
      "실제 요약 : held rally to save party not maha cm \n",
      "예측 요약 :  maharashtra cm calls for emergency\n",
      "추출 요약 : \"WeÃ¢ÂÂve decided to go back to (iPhone prices) more commensurate with...local prices...a year ago,\" Cook added.\n",
      "\n",
      "\n",
      "원문 : airbnb china start host guest information including passport details chinese government starting friday said local regulations like businesses operating china chinese regulations require citizens tourists register addresses police within hours nation staying hotel \n",
      "실제 요약 : china to share host info with government \n",
      "예측 요약 :  china china to china\n",
      "추출 요약 : \"The majority of fatalities from shark bites is due to blood loss...shock from blood loss,\" a scientist said.\n",
      "\n",
      "\n",
      "원문 : gurugram based hospitality startup oyo said hold first round share buyback offered current former employees january estimated crore around holders participate round startup revealed expects total million next years \n",
      "실제 요약 : worth cr from staff ex workers in jan \n",
      "예측 요약 :  gurugram based to\n",
      "추출 요약 : BJP National Secretary Rahul Sinha on Wednesday asked the party workers in West Bengal to come armed with sticks to PM Narendra Modi's rally in the state on February 2.\n",
      "\n",
      "\n",
      "원문 : mit researchers developed carbon dioxide emissions power plants fuel oxygen carbon dioxide leaving carbon serves fuel separation driven temperatures reaching stream hydrogen maintained side attract oxygen \n",
      "실제 요약 : mit turns into fuel \n",
      "예측 요약 :  mit develops fuel to power\n",
      "추출 요약 : BJP President Amit Shah on Wednesday took a dig at the Opposition parties saying that the 'mahagathbandhan' for the Opposition is 4B - \"Bua-Bhatija-Bhai-Behen\".\n",
      "\n",
      "\n",
      "원문 : board madhya pradesh proposed teach students love country help students know much importance religion following attached love country government stated \n",
      "실제 요약 : in mp to nation in \n",
      "예측 요약 :  mp govt to students for\n",
      "추출 요약 : Volkswagen's sales, including its MAN and Scania heavy trucks and buses, rose 0.9% to 10.83 million in 2018, the company had said.\n",
      "\n",
      "\n",
      "원문 : ex indian cricket team captain singh bedi took twitter share picture wedding ceremony son angad actress neha dhupia one may god couple always guru wrote alongside picture angad reportedly dated actress marrying neha \n",
      "실제 요약 : on son wedding to \n",
      "예측 요약 :  shares pic with his son\n",
      "추출 요약 : \n",
      "\n",
      "\n",
      "원문 : year old man killed lightning tamil nadu trying take picture mobile phone police said victim friends tried pick found injuries face chest police officials added following incident police warned people trying take photographs lightning \n",
      "실제 요약 : killed by while trying to take its photo \n",
      "예측 요약 :  man kills self for phone phone\n",
      "추출 요약 : The government has cut down customs duty on import of parts and components for electric vehicles to 10-15%, down from the previous 15-30%.\n",
      "\n",
      "\n",
      "원문 : west bengal cm mamata banerjee monday said centre crore various schemes year government added government paid debt crore centre talking state expenditure banerjee said crore would allocated separately development state \n",
      "실제 요약 : centre over crore to west bengal cm mamata \n",
      "예측 요약 :  govt to cr for in west bengal\n",
      "추출 요약 : Government officials on Wednesday said that a swine flu outbreak has killed 76 people this year in Rajasthan.\n",
      "\n",
      "\n",
      "원문 : actor alok nath turned monday said reading letters fans would send birthday added age celebration thought comes mind days alok known roles films like hum hain among others \n",
      "실제 요약 : miss which fans would send on my day \n",
      "예측 요약 :  am so for me on day\n",
      "추출 요약 : \"North Korean leaders view nuclear arms as critical to regime survival,\" he added.\n",
      "\n",
      "\n",
      "원문 : miss korea kim crowned miss friday poland colombia named first runner second runner respectively india official entry competition reached top failed make top \n",
      "실제 요약 : miss korea kim miss \n",
      "예측 요약 :  wins in south korea\n",
      "추출 요약 : Further, three aircraft have been temporarily grounded to carry out an engine normalisation exercise, it added.\n",
      "\n",
      "\n",
      "원문 : day announcing plans form political party actor rajinikanth monday launched new website urged fans register names voter id numbers thanking fans accepting entry politics asked come together one organisation bring good change tamil nadu politics \n",
      "실제 요약 : rajinikanth launches website urges fans to come together \n",
      "예측 요약 :  launches new ad after results\n",
      "추출 요약 : Retired Justice Srikrishna's enquiry panel has found that ex-CEO Chanda Kochhar violated ICICI Bank's code of conduct.\n",
      "\n",
      "\n",
      "원문 : trends showed congress third place mcd polls congress leader said campaign party since one asked party put aggressive campaign added criticising delhi congress chief ajay earlier said unable reach party leaders \n",
      "실제 요약 : campaign for polls as no one asked me \n",
      "예측 요약 :  congress to cong\n",
      "추출 요약 : Ex-India cricketer Jacob Martin has been shifted to general ward from the ICU after being on a ventilator for nearly a month following a road accident, wherein he severely injured his lungs.\n",
      "\n",
      "\n",
      "원문 : hundreds ancient roman gold coins discovered site old theatre northern italy ministry culture announced coins found stone theatre city theatre scheduled demolition way construction luxury residence \n",
      "실제 요약 : of gold in italy \n",
      "예측 요약 :  kg gold in australia\n",
      "추출 요약 : Tanya accused Perera of meeting country's Sports Minister to secure his place in the team.\n",
      "\n",
      "\n",
      "원문 : defender jitendra singh aged years six months days became youngest league history scoring indian tuesday singh represented india world cup went past earlier youngest score years months days \n",
      "실제 요약 : yr old youngest in league year history \n",
      "예측 요약 :  yr old who lost in years\n",
      "추출 요약 : Goa CM and ex-Defence Minister Manohar Parrikar has written a letter to Congress President Rahul Gandhi over his claim that Parrikar told him he has nothing to do with new Rafale deal.\n",
      "\n",
      "\n",
      "원문 : responding survey india blaming higher parts taj mahal poor maintenance supreme court said fly court added situation would done job surprised way defending \n",
      "실제 요약 : can fly sc asks for to taj mahal \n",
      "예측 요약 :  taj mahal from taj mahal\n",
      "추출 요약 : PM Modi then asked his officers to urgently arrange for an ambulance for the cameraman.\n",
      "\n",
      "\n",
      "원문 : former south african cricketer quoted pm narendra modi make india initiative thanking wishing daughter birthday whose two year old daughter named india said blessed born country many amazing people used hashtag tweet \n",
      "실제 요약 : make in india to modi \n",
      "예측 요약 :  pm modi wishes on his th birthday\n",
      "추출 요약 : A couple got divorced minutes after their wedding ceremony got over in Gujarat's Gondal as a disagreement broke out and relatives from both sides started throwing dishes at each other during lunch.\n",
      "\n",
      "\n",
      "원문 : talking states barring cbi finance minister arun jaitley said lot hide take step saying let cbi come state said states sovereignty matters corruption andhra pradesh west bengal barred cbi conducting raids states without approval \n",
      "실제 요약 : have lot to arun jaitley on states cbi \n",
      "예측 요약 :  no of in india fm jaitley\n",
      "추출 요약 : Gujarat Education Minister Bhupendrasinh Chudasma has written a congratulatory message to a yoga ashram run by rape-convict Asaram's organisation for observing February 14 as \"Matru-Pitru Pujan Divas\" (Mother-Father worship day).\n",
      "\n",
      "\n",
      "원문 : much kg drugs along mobile phones found prisons uk last year government revealed admitting situation unacceptable shortage prison staff officials said million worth investment technology detect phones dogs trained find drugs helped recover illegal items \n",
      "실제 요약 : kg of drugs mobile phones found in uk \n",
      "예측 요약 :  drug found using drugs in\n",
      "추출 요약 : Venezuelan President NicolÃÂ¡s Maduro has claimed that his American counterpart Donald Trump ordered the Colombian government and the Colombian mafia to kill him.\n",
      "\n",
      "\n",
      "원문 : killed two others injured five armed criminals shot inside bihar court friday two police officials responsible security court suspended investigation find incident took place adequate security present court premises police officials said \n",
      "실제 요약 : shot at inside bihar court officials suspended \n",
      "예측 요약 :  killed in bihar murder case\n",
      "추출 요약 : The richest among them is Hong Kong's Li Ka Shing with a net worth of $30.5 billion.\n",
      "\n",
      "\n",
      "원문 : many farmers maharashtra committed suicide january july year compared suicides period last year according government data farmer suicides reported past months maharashtra announced farm loan waiver june highest number suicides reported \n",
      "실제 요약 : over maharashtra farmers suicide in months \n",
      "예측 요약 :  farmers suicide in maharashtra\n",
      "추출 요약 : Tamil Nadu food safety officials on Wednesday raided and seized 1,000 kgs of banned plastic items from Hotel Saravana Bhavan in Chennai's Vadapalani.\n",
      "\n",
      "\n",
      "원문 : astronomers university cambridge discovered smallest known star slightly larger saturn light years earth star likely small stars possibly become said researchers smaller pressure centre would sufficient hydrogen process powers sun added \n",
      "실제 요약 : ever star in the discovered \n",
      "예측 요약 :  star star star star star star\n",
      "추출 요약 : Actress Shamita Shetty was verbally abused and her driver was slapped in an incident of road rage in Mumbai on Tuesday, as per reports.\n",
      "\n",
      "\n",
      "원문 : bombay high court thursday state government demands noise pollution rules festival state government told cannot go high court judgment allow sound silence zone hour day \n",
      "실제 요약 : cannot rules during festival bombay hc \n",
      "예측 요약 :  hc to maha govt\n",
      "추출 요약 : \n",
      "\n",
      "\n",
      "원문 : uttar pradesh minister sandeep singh friday mistakenly termed th republic day th addressing gathering aligarh singh said celebrating india th republic day sandeep singh mla constituency aligarh minister state primary secondary education government \n",
      "실제 요약 : up minister mistakenly th day as th \n",
      "예측 요약 :  up minister meets in\n",
      "추출 요약 : \"This is an insult to [the] beauty of marriage,\" an Instagram user commented on her post.\n",
      "\n",
      "\n",
      "원문 : three residents maharashtra including two youngsters intercepted friday allegedly smuggling foreign currency worth nearly lakh mumbai airport officials said accused rolled currency accused booked flight tickets separately avoid suspicion caught leaving dubai \n",
      "실제 요약 : three caught foreign currency in their \n",
      "예측 요약 :  maha police currency worth crore\n",
      "추출 요약 : Television actor Karanvir Bohra, who flew to Russia on Tuesday to attend a film festival, has been detained in Moscow due to passport damage.\n",
      "\n",
      "\n",
      "원문 : teaser ajay devgn emraan hashmi starrer released directed milan film revolves around robbery emergency india also starring ileana cruz esha gupta action thriller release september \n",
      "실제 요약 : teaser of ajay released \n",
      "예측 요약 :  teaser of rajkummar starrer released\n",
      "추출 요약 : \n",
      "\n",
      "\n",
      "원문 : addressing sunday sydney glenn asked steve smith david warner cameron bancroft players involved ball tampering incident earlier friday former captain steve smith broke tears urged nation press conference sydney airport \n",
      "실제 요약 : australian for smith warner \n",
      "예측 요약 :  smith warner\n",
      "추출 요약 : \n",
      "\n",
      "\n",
      "원문 : photo gallery iphones technology giant apple since first launched first iphone priced offered inch camera apple reportedly said release three versions upcoming iphone today \n",
      "실제 요약 : in pictures of in years \n",
      "예측 요약 :  apple launches its first iphone\n",
      "추출 요약 : Gmail on Tuesday faced a global outage, which also affected India, wherein certain users complained they faced a '404 error' message while trying to sign-in to their accounts.\n",
      "\n",
      "\n",
      "원문 : man uttar pradesh alleged pushed away cm yogi adityanath approached cm complaint mla mani tripathi claiming mla captured man said gave cm yogi papers threw away saying action taken \n",
      "실제 요약 : claims cm yogi him away when about mla \n",
      "예측 요약 :  bjp mla yogi adityanath in up\n",
      "추출 요약 : Shiv Sena chief Uddhav Thackeray has asked the BJP to decide about the alliance with the Sena within 15 days and said the BJP should make a concrete proposal on the alliance.\n",
      "\n",
      "\n",
      "원문 : model celebrated eid al boyfriend malik family members took instagram share story featured younger sister azad home eid wrote caption story dating since recently march \n",
      "실제 요약 : celebrates with boyfriend and his family \n",
      "예측 요약 :  actress to her boyfriend\n",
      "추출 요약 : He said the Opposition is thinking about leading the country but does not have a leader.\n",
      "\n",
      "\n",
      "원문 : kapil malhotra indian cricket team manager champions trophy reported incident captain virat kohli former coach anil kumble bcci asked malhotra report incident may affected dressing room environment bcci sought reports anil patel administrative manager india home test season \n",
      "실제 요약 : india manager reports no incident between kumble kohli \n",
      "예측 요약 :  kapil sharma to virat kohli reports\n",
      "추출 요약 : He added decisions like demonetisation and RERA have put a check on black money that used to be \"parked in the real estate sector\".\n",
      "\n",
      "\n"
     ]
    }
   ],
   "source": [
    "\n",
    "\n",
    "for i in range(50, 100):\n",
    "    print(\"원문 :\", seq2text(encoder_input_test[i]))\n",
    "    print(\"실제 요약 :\", seq2summary(decoder_input_test[i]))\n",
    "    print(\"예측 요약 :\", decode_sequence(encoder_input_test[i].reshape(1, text_max_len)))\n",
    "    print(\"추출 요약 :\", summarize(data.text[i], ratio=0.1, words=headlines_max_len))\n",
    "    \n",
    "    print(\"\\n\")"
   ]
  },
  {
   "cell_type": "markdown",
   "id": "9b2b029c",
   "metadata": {},
   "source": [
    "원문 : astronomers university cambridge discovered smallest known star slightly larger saturn light years earth star likely small stars possibly become said researchers smaller pressure centre would sufficient hydrogen process powers sun added \n",
    "실제 요약 : ever star in the discovered \n",
    "예측 요약 :  star star star star star star\n",
    "추출 요약 : Actress Shamita Shetty was verbally abused and her driver was slapped in an incident of road rage in Mumbai on Tuesday, as per reports.\n",
    "\n",
    "* 결과상으로는 대부분의 text에서 추출적 요약이 추상적 요약보다 좋은 성과를 보였습니다. "
   ]
  },
  {
   "cell_type": "markdown",
   "id": "f7edc805",
   "metadata": {},
   "source": [
    "## 회고\n",
    "* 평소에 공부를 할 때 중요한 부분을 새로 노트에 적곤 했었는데 그러한 기능을 컴퓨터가 해주어서 매우 신기했습니다. \n",
    "* 그리고 추상적 요약과 추출적 요약이라는 두 방법으로 모두 진행해보았는데, 추상적 요약은 text와 headlines를 모두 사용하고, 추출적 요약은 text 열만 사용하였음에도 불구하고 추출적 요약의 성능이 조금 뛰어났습니다. 아무래도 모델을 훈련시킬 데이터가 조금더 많았더라면 다른 결과가 나오지 않을까하는 예측이 듭니다. "
   ]
  }
 ],
 "metadata": {
  "kernelspec": {
   "display_name": "Python 3 (ipykernel)",
   "language": "python",
   "name": "python3"
  },
  "language_info": {
   "codemirror_mode": {
    "name": "ipython",
    "version": 3
   },
   "file_extension": ".py",
   "mimetype": "text/x-python",
   "name": "python",
   "nbconvert_exporter": "python",
   "pygments_lexer": "ipython3",
   "version": "3.9.7"
  }
 },
 "nbformat": 4,
 "nbformat_minor": 5
}
